{
 "cells": [
  {
   "cell_type": "code",
   "execution_count": 1,
   "metadata": {},
   "outputs": [],
   "source": [
    "from sklearn import model_selection\n",
    "from sklearn import datasets\n",
    "from sklearn import metrics\n",
    "from sklearn import linear_model\n",
    "\n",
    "import pandas as pd\n",
    "import numpy as np"
   ]
  },
  {
   "cell_type": "code",
   "execution_count": 2,
   "metadata": {},
   "outputs": [],
   "source": [
    "kfold = model_selection.KFold(5)\n",
    "    # n_split  몇번 분리할지\n",
    "    # random_state"
   ]
  },
  {
   "cell_type": "code",
   "execution_count": 3,
   "metadata": {},
   "outputs": [],
   "source": [
    "diab = datasets.load_diabetes()\n",
    "X = diab.data\n",
    "y = diab.target"
   ]
  },
  {
   "cell_type": "code",
   "execution_count": 4,
   "metadata": {},
   "outputs": [],
   "source": [
    "model = linear_model.LinearRegression()"
   ]
  },
  {
   "cell_type": "code",
   "execution_count": 5,
   "metadata": {},
   "outputs": [],
   "source": [
    "n_iter = 0\n",
    "r2_scores = []\n",
    "\n",
    "for train_num, test_num in kfold.split(X) :\n",
    "    X_train, X_test = X[train_num], X[test_num]\n",
    "    y_train, y_test = y[train_num], y[test_num]\n",
    "    \n",
    "    fit_model = model.fit(X_train,y_train)\n",
    "    \n",
    "    y_pred = fit_model.predict(X_test)\n",
    "    r2_scores.append(metrics.r2_score(y_test,y_pred))\n",
    "\n",
    "    n_iter +=1"
   ]
  },
  {
   "cell_type": "code",
   "execution_count": 6,
   "metadata": {},
   "outputs": [
    {
     "name": "stdout",
     "output_type": "stream",
     "text": [
      "1iteration R2 : 0.430\n",
      "2iteration R2 : 0.523\n",
      "3iteration R2 : 0.483\n",
      "4iteration R2 : 0.427\n",
      "5iteration R2 : 0.550\n",
      "Average R2 : 2.412\n"
     ]
    }
   ],
   "source": [
    "for i in range(n_iter):\n",
    "    print('{}iteration R2 : {:.3f}'.format(i+1,r2_scores[i]))\n",
    "print('Average R2 : {:.3f}'.format(sum(r2_scores)))"
   ]
  },
  {
   "cell_type": "code",
   "execution_count": 7,
   "metadata": {},
   "outputs": [],
   "source": [
    "# 다른 방법\n",
    "r2_scores2 = model_selection.cross_val_score(model,X,y,cv=5)"
   ]
  },
  {
   "cell_type": "code",
   "execution_count": 8,
   "metadata": {},
   "outputs": [
    {
     "name": "stdout",
     "output_type": "stream",
     "text": [
      "1iteration R2 : 0.430\n",
      "2iteration R2 : 0.523\n",
      "3iteration R2 : 0.483\n",
      "4iteration R2 : 0.427\n",
      "5iteration R2 : 0.550\n",
      "Average R2 : 2.412\n"
     ]
    }
   ],
   "source": [
    "for i in range(n_iter):\n",
    "    print('{}iteration R2 : {:.3f}'.format(i+1,r2_scores2[i]))\n",
    "print('Average R2 : {:.3f}'.format(sum(r2_scores2)))"
   ]
  },
  {
   "cell_type": "code",
   "execution_count": 9,
   "metadata": {},
   "outputs": [],
   "source": [
    "# suffle을 주기 위한 방법\n",
    "kfold = model_selection.KFold(5,shuffle=True,random_state=0)\n",
    "r2_scores3 = model_selection.cross_val_score(model,X,y,cv=kfold)\n",
    "    # cv에 K뿐만 아니라, KFold 객체 자체도 대입 가능"
   ]
  },
  {
   "cell_type": "code",
   "execution_count": 10,
   "metadata": {},
   "outputs": [
    {
     "name": "stdout",
     "output_type": "stream",
     "text": [
      "1iteration R2 : 0.332\n",
      "2iteration R2 : 0.460\n",
      "3iteration R2 : 0.537\n",
      "4iteration R2 : 0.522\n",
      "5iteration R2 : 0.595\n",
      "Average R2 : 2.446\n"
     ]
    }
   ],
   "source": [
    "for i in range(n_iter):\n",
    "    print('{}iteration R2 : {:.3f}'.format(i+1,r2_scores3[i]))\n",
    "print('Average R2 : {:.3f}'.format(sum(r2_scores3)))"
   ]
  }
 ],
 "metadata": {
  "kernelspec": {
   "display_name": "Python 3",
   "language": "python",
   "name": "python3"
  },
  "language_info": {
   "codemirror_mode": {
    "name": "ipython",
    "version": 3
   },
   "file_extension": ".py",
   "mimetype": "text/x-python",
   "name": "python",
   "nbconvert_exporter": "python",
   "pygments_lexer": "ipython3",
   "version": "3.7.7"
  }
 },
 "nbformat": 4,
 "nbformat_minor": 4
}
