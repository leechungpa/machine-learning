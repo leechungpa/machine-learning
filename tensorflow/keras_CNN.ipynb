{
  "nbformat": 4,
  "nbformat_minor": 0,
  "metadata": {
    "colab": {
      "name": "keras_CNN.ipynb",
      "provenance": []
    },
    "kernelspec": {
      "name": "python3",
      "display_name": "Python 3"
    }
  },
  "cells": [
    {
      "cell_type": "code",
      "metadata": {
        "id": "jIavl08Z8Z1t",
        "colab_type": "code",
        "colab": {}
      },
      "source": [
        "from sklearn.datasets import load_iris\n",
        "from sklearn.datasets import fetch_openml\n",
        "from sklearn.model_selection import train_test_split\n",
        "from sklearn import metrics\n",
        "\n",
        "from keras.utils import to_categorical\n",
        "from keras.models import Sequential\n",
        "from keras.layers import Dense, Flatten, Dropout\n",
        "from keras.layers.convolutional import Conv2D, MaxPooling2D\n",
        "from keras.optimizers import Adam\n",
        "\n",
        "import numpy as np\n",
        "\n",
        "import matplotlib.pyplot as plt"
      ],
      "execution_count": 1,
      "outputs": []
    },
    {
      "cell_type": "markdown",
      "metadata": {
        "id": "-usS4kylXo4Y",
        "colab_type": "text"
      },
      "source": [
        "# Convolutional Neural Network"
      ]
    },
    {
      "cell_type": "code",
      "metadata": {
        "id": "AYDDrGOIJd45",
        "colab_type": "code",
        "colab": {}
      },
      "source": [
        "mnist = fetch_openml('mnist_784', version=1)"
      ],
      "execution_count": 2,
      "outputs": []
    },
    {
      "cell_type": "code",
      "metadata": {
        "id": "QzuUANg8MMjP",
        "colab_type": "code",
        "colab": {}
      },
      "source": [
        "X = (mnist.data / 255).reshape(len(mnist.data), 28, 28, 1)\n",
        "      # 좋은 결과를 위해 정규화 하기 위해 255로 나눔\n",
        "y = to_categorical(mnist.target.astype(np.int),10)"
      ],
      "execution_count": 3,
      "outputs": []
    },
    {
      "cell_type": "code",
      "metadata": {
        "id": "5r0FlQ-5QzEm",
        "colab_type": "code",
        "colab": {}
      },
      "source": [
        "X_train, X_test, y_train, y_test = train_test_split(X, y, test_size=0.3)"
      ],
      "execution_count": 4,
      "outputs": []
    },
    {
      "cell_type": "code",
      "metadata": {
        "id": "jUySD-VpPyve",
        "colab_type": "code",
        "colab": {}
      },
      "source": [
        "model = Sequential()\n",
        "model.add(Conv2D(filters=32, kernel_size=(3,3), strides=(1,1), padding='Same', activation='relu', input_shape=(28,28,1)))\n",
        "model.add(Conv2D(filters=32, kernel_size=(3,3), strides=(1,1), padding='Same', activation='relu'))\n",
        "model.add(MaxPooling2D(pool_size=(2,2)))\n",
        "model.add(Conv2D(filters=64, kernel_size=(3,3), strides=(1,1), padding='Same', activation='relu'))\n",
        "model.add(Conv2D(filters=64, kernel_size=(3,3), strides=(1,1), padding='Same', activation='relu'))\n",
        "model.add(MaxPooling2D(pool_size=(2,2)))\n",
        "model.add(Flatten())\n",
        "model.add(Dense(units=128, activation='relu'))\n",
        "model.add(Dropout(0.25))\n",
        "model.add(Dense(units=10, activation='softmax'))\n"
      ],
      "execution_count": 5,
      "outputs": []
    },
    {
      "cell_type": "code",
      "metadata": {
        "id": "bDDpeA73RQiZ",
        "colab_type": "code",
        "colab": {}
      },
      "source": [
        "model.compile(loss='categorical_crossentropy', optimizer='adam', metrics=['accuracy'])"
      ],
      "execution_count": 6,
      "outputs": []
    },
    {
      "cell_type": "code",
      "metadata": {
        "id": "QsDvIn1NRYw_",
        "colab_type": "code",
        "colab": {
          "base_uri": "https://localhost:8080/",
          "height": 510
        },
        "outputId": "72ba7430-c07d-421a-9aa8-fe1f05c9d0c4"
      },
      "source": [
        "model.summary()"
      ],
      "execution_count": 7,
      "outputs": [
        {
          "output_type": "stream",
          "text": [
            "Model: \"sequential\"\n",
            "_________________________________________________________________\n",
            "Layer (type)                 Output Shape              Param #   \n",
            "=================================================================\n",
            "conv2d (Conv2D)              (None, 28, 28, 32)        320       \n",
            "_________________________________________________________________\n",
            "conv2d_1 (Conv2D)            (None, 28, 28, 32)        9248      \n",
            "_________________________________________________________________\n",
            "max_pooling2d (MaxPooling2D) (None, 14, 14, 32)        0         \n",
            "_________________________________________________________________\n",
            "conv2d_2 (Conv2D)            (None, 14, 14, 64)        18496     \n",
            "_________________________________________________________________\n",
            "conv2d_3 (Conv2D)            (None, 14, 14, 64)        36928     \n",
            "_________________________________________________________________\n",
            "max_pooling2d_1 (MaxPooling2 (None, 7, 7, 64)          0         \n",
            "_________________________________________________________________\n",
            "flatten (Flatten)            (None, 3136)              0         \n",
            "_________________________________________________________________\n",
            "dense (Dense)                (None, 128)               401536    \n",
            "_________________________________________________________________\n",
            "dropout (Dropout)            (None, 128)               0         \n",
            "_________________________________________________________________\n",
            "dense_1 (Dense)              (None, 10)                1290      \n",
            "=================================================================\n",
            "Total params: 467,818\n",
            "Trainable params: 467,818\n",
            "Non-trainable params: 0\n",
            "_________________________________________________________________\n"
          ],
          "name": "stdout"
        }
      ]
    },
    {
      "cell_type": "code",
      "metadata": {
        "id": "ImFfB2bJRb72",
        "colab_type": "code",
        "colab": {
          "base_uri": "https://localhost:8080/",
          "height": 369
        },
        "outputId": "04bbdc84-b1af-4fbc-e22d-5295c688254c"
      },
      "source": [
        "hstr = model.fit(X_train, y_train, epochs=10, batch_size=100, verbose=2)"
      ],
      "execution_count": 8,
      "outputs": [
        {
          "output_type": "stream",
          "text": [
            "Epoch 1/10\n",
            "490/490 - 174s - loss: 0.1873 - accuracy: 0.9428\n",
            "Epoch 2/10\n",
            "490/490 - 174s - loss: 0.0523 - accuracy: 0.9835\n",
            "Epoch 3/10\n",
            "490/490 - 174s - loss: 0.0372 - accuracy: 0.9889\n",
            "Epoch 4/10\n",
            "490/490 - 173s - loss: 0.0259 - accuracy: 0.9918\n",
            "Epoch 5/10\n",
            "490/490 - 173s - loss: 0.0234 - accuracy: 0.9922\n",
            "Epoch 6/10\n",
            "490/490 - 173s - loss: 0.0186 - accuracy: 0.9940\n",
            "Epoch 7/10\n",
            "490/490 - 173s - loss: 0.0153 - accuracy: 0.9951\n",
            "Epoch 8/10\n",
            "490/490 - 173s - loss: 0.0122 - accuracy: 0.9961\n",
            "Epoch 9/10\n",
            "490/490 - 173s - loss: 0.0124 - accuracy: 0.9957\n",
            "Epoch 10/10\n",
            "490/490 - 173s - loss: 0.0125 - accuracy: 0.9957\n"
          ],
          "name": "stdout"
        }
      ]
    },
    {
      "cell_type": "code",
      "metadata": {
        "id": "V_6yJvmRR3so",
        "colab_type": "code",
        "colab": {
          "base_uri": "https://localhost:8080/",
          "height": 193
        },
        "outputId": "d8f45b75-9575-4895-d509-fdf041ff2547"
      },
      "source": [
        "hstr.history['loss']"
      ],
      "execution_count": 9,
      "outputs": [
        {
          "output_type": "execute_result",
          "data": {
            "text/plain": [
              "[0.18733547627925873,\n",
              " 0.05234699323773384,\n",
              " 0.037168238312006,\n",
              " 0.025934506207704544,\n",
              " 0.02336524985730648,\n",
              " 0.018596531823277473,\n",
              " 0.015296315774321556,\n",
              " 0.012215221300721169,\n",
              " 0.012406750582158566,\n",
              " 0.012489152140915394]"
            ]
          },
          "metadata": {
            "tags": []
          },
          "execution_count": 9
        }
      ]
    },
    {
      "cell_type": "code",
      "metadata": {
        "id": "dElrFiE6Seb3",
        "colab_type": "code",
        "colab": {
          "base_uri": "https://localhost:8080/",
          "height": 265
        },
        "outputId": "1ab25f87-c8a2-49f3-b298-5bb9249ba3b5"
      },
      "source": [
        "plt.plot(hstr.history['loss'], color ='red')\n",
        "plt.show()"
      ],
      "execution_count": 10,
      "outputs": [
        {
          "output_type": "display_data",
          "data": {
            "image/png": "[encoded data removed]",
            "text/plain": [
              "<Figure size 432x288 with 1 Axes>"
            ]
          },
          "metadata": {
            "tags": [],
            "needs_background": "light"
          }
        }
      ]
    },
    {
      "cell_type": "code",
      "metadata": {
        "id": "qSPX1rTaSZ5J",
        "colab_type": "code",
        "colab": {
          "base_uri": "https://localhost:8080/",
          "height": 193
        },
        "outputId": "d7b3a783-86a8-4848-b82f-917ba54ec5f1"
      },
      "source": [
        "hstr.history['accuracy']"
      ],
      "execution_count": 11,
      "outputs": [
        {
          "output_type": "execute_result",
          "data": {
            "text/plain": [
              "[0.9427551031112671,\n",
              " 0.9834898114204407,\n",
              " 0.988897979259491,\n",
              " 0.9918367266654968,\n",
              " 0.9922245144844055,\n",
              " 0.9940407872200012,\n",
              " 0.9951428771018982,\n",
              " 0.996122419834137,\n",
              " 0.9956530332565308,\n",
              " 0.9956938624382019]"
            ]
          },
          "metadata": {
            "tags": []
          },
          "execution_count": 11
        }
      ]
    },
    {
      "cell_type": "code",
      "metadata": {
        "id": "U6ox5ZRxSlxj",
        "colab_type": "code",
        "colab": {
          "base_uri": "https://localhost:8080/",
          "height": 265
        },
        "outputId": "dc169245-d451-4a6f-d385-c92698c4a65f"
      },
      "source": [
        "plt.plot(hstr.history['accuracy'], color ='red')\n",
        "plt.show()"
      ],
      "execution_count": 12,
      "outputs": [
        {
          "output_type": "display_data",
          "data": {
            "image/png": "[encoded data removed]",
            "text/plain": [
              "<Figure size 432x288 with 1 Axes>"
            ]
          },
          "metadata": {
            "tags": [],
            "needs_background": "light"
          }
        }
      ]
    },
    {
      "cell_type": "code",
      "metadata": {
        "id": "KKjTdqQWSoY7",
        "colab_type": "code",
        "colab": {
          "base_uri": "https://localhost:8080/",
          "height": 90
        },
        "outputId": "4613b43f-b3e4-48fd-d32e-2afdb5c41e5e"
      },
      "source": [
        "loss, acc = model.evaluate(X_test, y_test)\n",
        "\n",
        "print('손실값 :',loss)\n",
        "print('정확도 :',acc)"
      ],
      "execution_count": 13,
      "outputs": [
        {
          "output_type": "stream",
          "text": [
            "657/657 [==============================] - 21s 32ms/step - loss: 0.0267 - accuracy: 0.9925\n",
            "손실값 : 0.026737816631793976\n",
            "정확도 : 0.9924761652946472\n"
          ],
          "name": "stdout"
        }
      ]
    },
    {
      "cell_type": "code",
      "metadata": {
        "id": "p3rjl_V6WJQj",
        "colab_type": "code",
        "colab": {
          "base_uri": "https://localhost:8080/",
          "height": 246
        },
        "outputId": "a5649eba-b028-4362-e060-3ce81d11066f"
      },
      "source": [
        "y_pred = model.predict(X_test)\n",
        "\n",
        "print(y_pred)"
      ],
      "execution_count": 14,
      "outputs": [
        {
          "output_type": "stream",
          "text": [
            "[[2.7160872e-13 2.2371329e-07 7.7298023e-07 ... 9.9996364e-01\n",
            "  1.4148023e-09 2.8443947e-07]\n",
            " [2.8885267e-20 1.8474447e-12 6.9327526e-14 ... 1.7309177e-13\n",
            "  4.8966977e-13 3.7087705e-13]\n",
            " [2.7044211e-16 1.8871814e-11 2.6858310e-10 ... 1.6743812e-08\n",
            "  2.4301050e-10 6.7942901e-11]\n",
            " ...\n",
            " [2.3574778e-10 6.4376177e-10 1.0000000e+00 ... 2.0326683e-10\n",
            "  5.2895820e-11 3.7048295e-11]\n",
            " [7.8629270e-08 1.4986837e-03 4.1566807e-05 ... 4.6973915e-07\n",
            "  1.2296069e-03 5.9827214e-01]\n",
            " [3.9113487e-11 1.3998098e-11 1.8633974e-13 ... 7.9465753e-18\n",
            "  4.2305881e-11 5.1108359e-15]]\n"
          ],
          "name": "stdout"
        }
      ]
    },
    {
      "cell_type": "code",
      "metadata": {
        "id": "Rb89ow1CWvsC",
        "colab_type": "code",
        "colab": {
          "base_uri": "https://localhost:8080/",
          "height": 34
        },
        "outputId": "0957d0da-b4bf-48ea-a7d8-d06bb571126d"
      },
      "source": [
        "y_pred_class = np.argmax(y_pred, axis=1) # 가장큰 값, 즉 0이 아닌 1인 값의 위치를 출력\n",
        "\n",
        "print(y_pred_class)"
      ],
      "execution_count": 21,
      "outputs": [
        {
          "output_type": "stream",
          "text": [
            "[7 3 3 ... 2 9 6]\n"
          ],
          "name": "stdout"
        }
      ]
    },
    {
      "cell_type": "code",
      "metadata": {
        "id": "uimfmE0qXALZ",
        "colab_type": "code",
        "colab": {
          "base_uri": "https://localhost:8080/",
          "height": 193
        },
        "outputId": "0619dceb-6a1d-4307-ac87-ae16f60e778f"
      },
      "source": [
        "metrics.confusion_matrix(np.argmax(y_test, axis=1), y_pred_class)"
      ],
      "execution_count": 22,
      "outputs": [
        {
          "output_type": "execute_result",
          "data": {
            "text/plain": [
              "array([[1989,    1,    4,    0,    0,    1,   10,    0,    4,    1],\n",
              "       [   1, 2401,    4,    2,    2,    0,    1,    7,    0,    1],\n",
              "       [   0,    1, 2108,    2,    0,    0,    0,    0,    1,    1],\n",
              "       [   0,    0,    8, 2123,    0,    8,    0,    0,    4,    3],\n",
              "       [   0,    0,    1,    0, 1960,    0,    2,    4,    0,    8],\n",
              "       [   0,    0,    0,    3,    1, 1863,   10,    1,    1,    1],\n",
              "       [   0,    1,    2,    1,    1,    3, 2089,    0,    0,    0],\n",
              "       [   0,    4,    6,    0,    0,    1,    0, 2167,    0,    2],\n",
              "       [   0,    0,    5,    1,    0,    0,    2,    0, 2075,    2],\n",
              "       [   1,    0,    1,    7,    8,    7,    0,    4,    0, 2067]])"
            ]
          },
          "metadata": {
            "tags": []
          },
          "execution_count": 22
        }
      ]
    }
  ]
}