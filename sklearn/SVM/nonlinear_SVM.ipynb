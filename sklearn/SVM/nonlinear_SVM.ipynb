{
 "cells": [
  {
   "cell_type": "code",
   "execution_count": 1,
   "metadata": {},
   "outputs": [],
   "source": [
    "from sklearn import datasets\n",
    "from sklearn import preprocessing\n",
    "from sklearn import model_selection\n",
    "from sklearn import svm\n",
    "from sklearn import metrics\n",
    "\n",
    "import matplotlib.pyplot as plt\n",
    "\n",
    "import numpy as np\n",
    "import pandas as pd"
   ]
  },
  {
   "cell_type": "markdown",
   "metadata": {},
   "source": [
    "# nonlinear SVM"
   ]
  },
  {
   "cell_type": "markdown",
   "metadata": {},
   "source": [
    "## 비선형 데이터 예"
   ]
  },
  {
   "cell_type": "code",
   "execution_count": 2,
   "metadata": {},
   "outputs": [],
   "source": [
    "X = np.linspace(-4, 4, 9).reshape(-1, 1)\n",
    "y = np.array([0, 0, 1, 1, 1, 1, 1, 0, 0])\n",
    "\n",
    "X_poly = preprocessing.PolynomialFeatures(degree=2).fit_transform(X)"
   ]
  },
  {
   "cell_type": "code",
   "execution_count": 3,
   "metadata": {},
   "outputs": [],
   "source": [
    "X, y = datasets.make_circles(n_samples=100, noise=0.05, random_state=42)"
   ]
  },
  {
   "cell_type": "code",
   "execution_count": 4,
   "metadata": {},
   "outputs": [
    {
     "data": {
      "image/png": "[encoded data removed]",
      "text/plain": [
       "<Figure size 432x288 with 1 Axes>"
      ]
     },
     "metadata": {
      "needs_background": "light"
     },
     "output_type": "display_data"
    }
   ],
   "source": [
    "plt.scatter(X[y==0,0], X[y==0,1], color='blue')\n",
    "plt.scatter(X[y==1,0], X[y==1,1], color='red')\n",
    "plt.show()"
   ]
  },
  {
   "cell_type": "code",
   "execution_count": 5,
   "metadata": {},
   "outputs": [],
   "source": [
    "X, y = datasets.make_moons(n_samples=100, noise=0.15, random_state=42)"
   ]
  },
  {
   "cell_type": "code",
   "execution_count": 6,
   "metadata": {},
   "outputs": [
    {
     "data": {
      "image/png": "[encoded data removed]",
      "text/plain": [
       "<Figure size 432x288 with 1 Axes>"
      ]
     },
     "metadata": {
      "needs_background": "light"
     },
     "output_type": "display_data"
    }
   ],
   "source": [
    "plt.scatter(X[y==0,0], X[y==0,1], color='blue')\n",
    "plt.scatter(X[y==1,0], X[y==1,1], color='red')\n",
    "plt.show()"
   ]
  },
  {
   "cell_type": "markdown",
   "metadata": {},
   "source": [
    "## 좌교계 만들기 : contour plot"
   ]
  },
  {
   "cell_type": "code",
   "execution_count": 7,
   "metadata": {},
   "outputs": [
    {
     "name": "stdout",
     "output_type": "stream",
     "text": [
      "[[0 1 2]\n",
      " [0 1 2]\n",
      " [0 1 2]\n",
      " [0 1 2]]\n",
      "\n",
      "[[5 5 5]\n",
      " [6 6 6]\n",
      " [7 7 7]\n",
      " [8 8 8]]\n"
     ]
    }
   ],
   "source": [
    "A = np.arange(3)\n",
    "B = np.arange(5,9)\n",
    "X1, X2 = np.meshgrid(A, B)\n",
    "print(X1)\n",
    "print()\n",
    "print(X2)"
   ]
  },
  {
   "cell_type": "code",
   "execution_count": 8,
   "metadata": {},
   "outputs": [
    {
     "name": "stdout",
     "output_type": "stream",
     "text": [
      "0 5\n",
      "1 5\n",
      "2 5\n",
      "0 6\n",
      "1 6\n",
      "2 6\n",
      "0 7\n",
      "1 7\n",
      "2 7\n",
      "0 8\n",
      "1 8\n",
      "2 8\n"
     ]
    }
   ],
   "source": [
    "# 방법1\n",
    "for x_pt, y_pt in zip(X1, X2):\n",
    "    for x, y in zip(x_pt, y_pt):\n",
    "        print(x,y)"
   ]
  },
  {
   "cell_type": "code",
   "execution_count": 9,
   "metadata": {},
   "outputs": [
    {
     "data": {
      "text/plain": [
       "array([0, 1, 2, 0, 1, 2, 0, 1, 2, 0, 1, 2])"
      ]
     },
     "execution_count": 9,
     "metadata": {},
     "output_type": "execute_result"
    }
   ],
   "source": [
    "X1.ravel()"
   ]
  },
  {
   "cell_type": "code",
   "execution_count": 10,
   "metadata": {},
   "outputs": [
    {
     "data": {
      "text/plain": [
       "array([[0, 5],\n",
       "       [1, 5],\n",
       "       [2, 5],\n",
       "       [0, 6],\n",
       "       [1, 6],\n",
       "       [2, 6],\n",
       "       [0, 7],\n",
       "       [1, 7],\n",
       "       [2, 7],\n",
       "       [0, 8],\n",
       "       [1, 8],\n",
       "       [2, 8]])"
      ]
     },
     "execution_count": 10,
     "metadata": {},
     "output_type": "execute_result"
    }
   ],
   "source": [
    "# 방법2\n",
    "np.vstack((X1.ravel(), X2.ravel())).T"
   ]
  },
  {
   "cell_type": "markdown",
   "metadata": {},
   "source": [
    "# 다항 특성 확장 방법"
   ]
  },
  {
   "cell_type": "code",
   "execution_count": 11,
   "metadata": {},
   "outputs": [],
   "source": [
    "X, y = datasets.make_moons(n_samples=100, noise=0.15, random_state=42)"
   ]
  },
  {
   "cell_type": "code",
   "execution_count": 12,
   "metadata": {},
   "outputs": [],
   "source": [
    "poly = preprocessing.PolynomialFeatures(degree=3)"
   ]
  },
  {
   "cell_type": "code",
   "execution_count": 13,
   "metadata": {},
   "outputs": [],
   "source": [
    "X_poly = poly.fit_transform(X)"
   ]
  },
  {
   "cell_type": "code",
   "execution_count": 14,
   "metadata": {},
   "outputs": [],
   "source": [
    "model = svm.SVC(C=10, kernel='linear').fit(X_poly, y)"
   ]
  },
  {
   "cell_type": "markdown",
   "metadata": {},
   "source": [
    "## 예측"
   ]
  },
  {
   "cell_type": "code",
   "execution_count": 15,
   "metadata": {},
   "outputs": [
    {
     "name": "stdout",
     "output_type": "stream",
     "text": [
      "[ 1.84215984 -0.75217115 -2.67586824]\n",
      "[1 0 0]\n"
     ]
    }
   ],
   "source": [
    "X_new = np.array([[1,-0.5], [1,0], [1,0.5]])\n",
    "X_new_poly = poly.fit_transform(X_new)\n",
    "\n",
    "print(model.decision_function(X_new_poly))\n",
    "print(model.predict(X_new_poly))"
   ]
  },
  {
   "cell_type": "markdown",
   "metadata": {},
   "source": [
    "## 시각화"
   ]
  },
  {
   "cell_type": "code",
   "execution_count": 16,
   "metadata": {},
   "outputs": [],
   "source": [
    "X1s = np.linspace(-1.5, 2.5, 100)\n",
    "X2s = np.linspace(-1, 1.5, 100)\n",
    "\n",
    "X1, X2 = np.meshgrid(X1s, X2s) #좌표를 만들어줌\n",
    "\n",
    "XX = np.vstack((X1.ravel(), X2.ravel())).transpose()\n",
    "XX_poly = poly.fit_transform(XX)\n",
    "y_pred = model.predict(XX_poly).reshape(X1.shape)"
   ]
  },
  {
   "cell_type": "code",
   "execution_count": 17,
   "metadata": {},
   "outputs": [
    {
     "data": {
      "image/png": "[encoded data removed]",
      "text/plain": [
       "<Figure size 432x288 with 1 Axes>"
      ]
     },
     "metadata": {
      "needs_background": "light"
     },
     "output_type": "display_data"
    }
   ],
   "source": [
    "plt.contour(X1s, X2s, y_pred, colors='black')\n",
    "plt.contourf(X1s, X2s, y_pred, cmap=plt.cm.coolwarm, alpha=0.3)\n",
    "\n",
    "plt.xlabel('$X_1$', fontsize=14)\n",
    "plt.ylabel('$X_2$', fontsize=14)\n",
    "\n",
    "plt.show()"
   ]
  },
  {
   "cell_type": "markdown",
   "metadata": {},
   "source": [
    "# Kernel"
   ]
  },
  {
   "cell_type": "markdown",
   "metadata": {},
   "source": [
    "## hyperparameter tuning\n",
    "높은 C : margin이 좁아지고, 오분류가 적어짐 -> overfitting\n",
    "\n",
    "낮은 C : margin이 넓어지고, 오분류가 많아짐 -> underfitting\n",
    "\n",
    "높은 gamma : 한 데이터에 영향을 크게 받음 -> overfitting\n",
    "\n",
    "낮은 gamma : 한데이터에 영향을 적게 받음 -> underfittng\n"
   ]
  },
  {
   "cell_type": "markdown",
   "metadata": {
    "heading_collapsed": true
   },
   "source": [
    "## 다항식(poly) 커널\n",
    "특성을 지정하여 특성 차수까지 변환하여 확장하는 방식\n",
    "\n",
    "이미지 처리 등에 사용되나, 속도가 느려 자주 사용하지 않음"
   ]
  },
  {
   "cell_type": "code",
   "execution_count": 18,
   "metadata": {
    "hidden": true
   },
   "outputs": [],
   "source": [
    "X, y = datasets.make_moons(n_samples=100, noise=0.15, random_state=42)"
   ]
  },
  {
   "cell_type": "code",
   "execution_count": 19,
   "metadata": {
    "hidden": true
   },
   "outputs": [],
   "source": [
    "poly_model = svm.SVC(C=10, kernel='poly',\n",
    "                     degree=3, coef0=1, gamma='auto').fit(X, y)\n",
    "# kernel='poly' : 다항식 커널 트릭\n",
    "# degree=3 : 3차다항식 특성인 것처럼 계산\n",
    "    # 클수록 overfitting의 위험\n",
    "# coef0=0 : 다항식 커널과 시그모이드 커널에서 사용하는 상수값\n",
    "    # 통상적으로 1을 넣음\n",
    "# gamma='auto' : 커널반경의 민감도를 결정하는 값\n",
    "    # 클수록 결정경계에 더욱 민감해 지므로, 더욱 부드러워 진다."
   ]
  },
  {
   "cell_type": "code",
   "execution_count": 20,
   "metadata": {
    "hidden": true
   },
   "outputs": [
    {
     "data": {
      "text/plain": [
       "array([1, 0, 0], dtype=int64)"
      ]
     },
     "execution_count": 20,
     "metadata": {},
     "output_type": "execute_result"
    }
   ],
   "source": [
    "poly_model.predict(X_new)"
   ]
  },
  {
   "cell_type": "code",
   "execution_count": 21,
   "metadata": {
    "hidden": true
   },
   "outputs": [
    {
     "data": {
      "text/plain": [
       "array([ 1.57528123, -0.24268752, -1.95292692])"
      ]
     },
     "execution_count": 21,
     "metadata": {},
     "output_type": "execute_result"
    }
   ],
   "source": [
    "poly_model.decision_function(X_new)"
   ]
  },
  {
   "cell_type": "markdown",
   "metadata": {},
   "source": [
    "## RBF 커널 (=가우시안 커널)\n",
    "radial basis function : 데이터의 특성을 무한한 모든 차수의 모든 다항식으로 확장하는 방식 (즉 degree=$\\infty$)\n",
    "\n",
    "데이터가 너무 크지(10만개) 않으면 일반적으로 가장 성능이 좋음"
   ]
  },
  {
   "cell_type": "code",
   "execution_count": 22,
   "metadata": {},
   "outputs": [],
   "source": [
    "rdf_model = svm.SVC(C=10, kernel='rbf',\n",
    "                    gamma='auto').fit(X, y)"
   ]
  },
  {
   "cell_type": "code",
   "execution_count": 23,
   "metadata": {},
   "outputs": [
    {
     "data": {
      "text/plain": [
       "array([1, 0, 0], dtype=int64)"
      ]
     },
     "execution_count": 23,
     "metadata": {},
     "output_type": "execute_result"
    }
   ],
   "source": [
    "rdf_model.predict(X_new)"
   ]
  },
  {
   "cell_type": "code",
   "execution_count": 24,
   "metadata": {
    "scrolled": true
   },
   "outputs": [
    {
     "data": {
      "text/plain": [
       "array([ 1.6290083 , -0.12268127, -1.86080587])"
      ]
     },
     "execution_count": 24,
     "metadata": {},
     "output_type": "execute_result"
    }
   ],
   "source": [
    "rdf_model.decision_function(X_new)"
   ]
  },
  {
   "cell_type": "markdown",
   "metadata": {},
   "source": [
    "## sigmoid 커널\n",
    "\n",
    "시그모이드 곡선의 tanh함수가 적용되며, SVM보다는 신경망 학습에서 사용"
   ]
  },
  {
   "cell_type": "markdown",
   "metadata": {},
   "source": [
    "# RDF SVM 연습"
   ]
  },
  {
   "cell_type": "code",
   "execution_count": 25,
   "metadata": {},
   "outputs": [],
   "source": [
    "iris = datasets.load_iris()\n",
    "X = iris.data[:, (2,3)]\n",
    "y = iris.target"
   ]
  },
  {
   "cell_type": "code",
   "execution_count": 26,
   "metadata": {},
   "outputs": [],
   "source": [
    "X_train, X_test, y_train, y_test = \\\n",
    "model_selection.train_test_split(X, y, test_size=0.3, random_state=0)"
   ]
  },
  {
   "cell_type": "code",
   "execution_count": 27,
   "metadata": {},
   "outputs": [],
   "source": [
    "clf = svm.SVC(kernel='rbf', C=10, gamma=2).fit(X_train, y_train)"
   ]
  },
  {
   "cell_type": "code",
   "execution_count": 28,
   "metadata": {},
   "outputs": [],
   "source": [
    "y_pred = clf.predict(X_test)"
   ]
  },
  {
   "cell_type": "code",
   "execution_count": 29,
   "metadata": {},
   "outputs": [
    {
     "name": "stdout",
     "output_type": "stream",
     "text": [
      "정확도 : 0.9777777777777777\n",
      "오차행렬 :\n",
      "[[16  0  0]\n",
      " [ 0 17  1]\n",
      " [ 0  0 11]]\n",
      "보고서 :\n",
      "              precision    recall  f1-score   support\n",
      "\n",
      "           0       1.00      1.00      1.00        16\n",
      "           1       1.00      0.94      0.97        18\n",
      "           2       0.92      1.00      0.96        11\n",
      "\n",
      "    accuracy                           0.98        45\n",
      "   macro avg       0.97      0.98      0.98        45\n",
      "weighted avg       0.98      0.98      0.98        45\n",
      "\n"
     ]
    }
   ],
   "source": [
    "print('정확도 :',metrics.accuracy_score(y_test, y_pred))\n",
    "print('오차행렬 :')\n",
    "print(metrics.confusion_matrix(y_test, y_pred))\n",
    "print('보고서 :')\n",
    "print(metrics.classification_report(y_test, y_pred))"
   ]
  },
  {
   "cell_type": "code",
   "execution_count": 30,
   "metadata": {},
   "outputs": [
    {
     "data": {
      "image/png": "[encoded data removed]",
      "text/plain": [
       "<Figure size 432x288 with 1 Axes>"
      ]
     },
     "metadata": {
      "needs_background": "light"
     },
     "output_type": "display_data"
    }
   ],
   "source": [
    "c_set = ['blue', 'red', 'green']\n",
    "m_set = ['o', '^', 's']\n",
    "l_set = iris.target_names\n",
    "\n",
    "for t in set(y_train):\n",
    "    xx = [X_train[i][0] for i in range(len(y_train)) if y_train[i]==t]\n",
    "    yy = [X_train[i][1] for i in range(len(y_train)) if y_train[i]==t]\n",
    "    plt.scatter(xx, yy, color=c_set[t], marker=m_set[t], \\\n",
    "               label=l_set[t]+' (train)',s=80, alpha=0.3)\n",
    "for t in set(y_test):\n",
    "    xx = [X_test[i][0] for i in range(len(y_test)) if y_test[i]==t]\n",
    "    yy = [X_test[i][1] for i in range(len(y_test)) if y_test[i]==t]\n",
    "    plt.scatter(xx, yy, edgecolor='black', facecolors='none',\\\n",
    "                marker=m_set[t], label=l_set[t]+' (test)',s=100)\n",
    "    \n",
    "X1s = np.linspace(0, 8, 100)\n",
    "X2s = np.linspace(-1, 3, 100)\n",
    "X1, X2 = np.meshgrid(X1s, X2s)\n",
    "\n",
    "XX = np.vstack((X1.ravel(), X2.ravel())).transpose()\n",
    "YY = clf.predict(XX).reshape(X1.shape)\n",
    "\n",
    "plt.contour(X1s, X2s, YY, colors=c_set, levels=[0,1,2])\n",
    "plt.contourf(X1s, X2s, YY, cmap=plt.cm.rainbow, alpha=0.15)\n",
    "\n",
    "plt.show()"
   ]
  },
  {
   "cell_type": "markdown",
   "metadata": {},
   "source": [
    "C와 gamma를 다르게 주면 다른 형태의 그림이 나타남"
   ]
  }
 ],
 "metadata": {
  "kernelspec": {
   "display_name": "Python 3",
   "language": "python",
   "name": "python3"
  },
  "language_info": {
   "codemirror_mode": {
    "name": "ipython",
    "version": 3
   },
   "file_extension": ".py",
   "mimetype": "text/x-python",
   "name": "python",
   "nbconvert_exporter": "python",
   "pygments_lexer": "ipython3",
   "version": "3.7.7"
  },
  "toc": {
   "base_numbering": 1,
   "nav_menu": {},
   "number_sections": true,
   "sideBar": true,
   "skip_h1_title": false,
   "title_cell": "Table of Contents",
   "title_sidebar": "Contents",
   "toc_cell": false,
   "toc_position": {},
   "toc_section_display": true,
   "toc_window_display": false
  },
  "varInspector": {
   "cols": {
    "lenName": 16,
    "lenType": 16,
    "lenVar": 40
   },
   "kernels_config": {
    "python": {
     "delete_cmd_postfix": "",
     "delete_cmd_prefix": "del ",
     "library": "var_list.py",
     "varRefreshCmd": "print(var_dic_list())"
    },
    "r": {
     "delete_cmd_postfix": ") ",
     "delete_cmd_prefix": "rm(",
     "library": "var_list.r",
     "varRefreshCmd": "cat(var_dic_list()) "
    }
   },
   "types_to_exclude": [
    "module",
    "function",
    "builtin_function_or_method",
    "instance",
    "_Feature"
   ],
   "window_display": false
  }
 },
 "nbformat": 4,
 "nbformat_minor": 4
}
