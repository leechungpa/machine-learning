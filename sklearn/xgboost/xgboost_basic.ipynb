{
 "cells": [
  {
   "cell_type": "markdown",
   "metadata": {},
   "source": [
    "# xgboost"
   ]
  },
  {
   "cell_type": "code",
   "execution_count": 6,
   "metadata": {},
   "outputs": [],
   "source": [
    "import xgboost as xgb"
   ]
  },
  {
   "cell_type": "code",
   "execution_count": 7,
   "metadata": {
    "scrolled": false
   },
   "outputs": [
    {
     "data": {
      "text/plain": [
       "'0.90'"
      ]
     },
     "execution_count": 7,
     "metadata": {},
     "output_type": "execute_result"
    }
   ],
   "source": [
    "xgb.__version__"
   ]
  },
  {
   "cell_type": "markdown",
   "metadata": {},
   "source": [
    "## 데이터 로드"
   ]
  },
  {
   "cell_type": "code",
   "execution_count": 9,
   "metadata": {},
   "outputs": [],
   "source": [
    "from sklearn.datasets import load_breast_cancer\n",
    "from sklearn.model_selection import train_test_split"
   ]
  },
  {
   "cell_type": "code",
   "execution_count": 10,
   "metadata": {},
   "outputs": [],
   "source": [
    "data = load_breast_cancer()\n",
    "X_train, X_test, y_train, y_test = train_test_split(data.data, data.target)"
   ]
  },
  {
   "cell_type": "markdown",
   "metadata": {},
   "source": [
    "## 기본"
   ]
  },
  {
   "cell_type": "code",
   "execution_count": 3,
   "metadata": {},
   "outputs": [],
   "source": [
    "from xgboost import XGBClassifier"
   ]
  },
  {
   "cell_type": "code",
   "execution_count": 4,
   "metadata": {},
   "outputs": [],
   "source": [
    "xgb_clf = XGBClassifier()"
   ]
  },
  {
   "cell_type": "code",
   "execution_count": 11,
   "metadata": {},
   "outputs": [
    {
     "data": {
      "text/plain": [
       "XGBClassifier(base_score=0.5, booster='gbtree', colsample_bylevel=1,\n",
       "              colsample_bynode=1, colsample_bytree=1, gamma=0,\n",
       "              learning_rate=0.1, max_delta_step=0, max_depth=3,\n",
       "              min_child_weight=1, missing=None, n_estimators=100, n_jobs=1,\n",
       "              nthread=None, objective='binary:logistic', random_state=0,\n",
       "              reg_alpha=0, reg_lambda=1, scale_pos_weight=1, seed=None,\n",
       "              silent=None, subsample=1, verbosity=1)"
      ]
     },
     "execution_count": 11,
     "metadata": {},
     "output_type": "execute_result"
    }
   ],
   "source": [
    "xgb_clf"
   ]
  },
  {
   "cell_type": "code",
   "execution_count": 12,
   "metadata": {
    "collapsed": true
   },
   "outputs": [
    {
     "name": "stdout",
     "output_type": "stream",
     "text": [
      "[0]\tvalidation_0-logloss:0.612672\n",
      "Will train until validation_0-logloss hasn't improved in 100 rounds.\n",
      "[1]\tvalidation_0-logloss:0.548594\n",
      "[2]\tvalidation_0-logloss:0.491682\n",
      "[3]\tvalidation_0-logloss:0.444937\n",
      "[4]\tvalidation_0-logloss:0.404631\n",
      "[5]\tvalidation_0-logloss:0.370265\n",
      "[6]\tvalidation_0-logloss:0.337242\n",
      "[7]\tvalidation_0-logloss:0.309684\n",
      "[8]\tvalidation_0-logloss:0.288152\n",
      "[9]\tvalidation_0-logloss:0.268289\n",
      "[10]\tvalidation_0-logloss:0.248541\n",
      "[11]\tvalidation_0-logloss:0.231275\n",
      "[12]\tvalidation_0-logloss:0.218079\n",
      "[13]\tvalidation_0-logloss:0.205034\n",
      "[14]\tvalidation_0-logloss:0.194406\n",
      "[15]\tvalidation_0-logloss:0.183511\n",
      "[16]\tvalidation_0-logloss:0.173277\n",
      "[17]\tvalidation_0-logloss:0.16423\n",
      "[18]\tvalidation_0-logloss:0.157468\n",
      "[19]\tvalidation_0-logloss:0.149561\n",
      "[20]\tvalidation_0-logloss:0.144181\n",
      "[21]\tvalidation_0-logloss:0.140104\n",
      "[22]\tvalidation_0-logloss:0.135176\n",
      "[23]\tvalidation_0-logloss:0.130046\n",
      "[24]\tvalidation_0-logloss:0.125908\n",
      "[25]\tvalidation_0-logloss:0.12248\n",
      "[26]\tvalidation_0-logloss:0.11931\n",
      "[27]\tvalidation_0-logloss:0.117515\n",
      "[28]\tvalidation_0-logloss:0.115036\n",
      "[29]\tvalidation_0-logloss:0.113455\n",
      "[30]\tvalidation_0-logloss:0.112229\n",
      "[31]\tvalidation_0-logloss:0.111185\n",
      "[32]\tvalidation_0-logloss:0.107646\n",
      "[33]\tvalidation_0-logloss:0.106939\n",
      "[34]\tvalidation_0-logloss:0.104986\n",
      "[35]\tvalidation_0-logloss:0.103252\n",
      "[36]\tvalidation_0-logloss:0.101922\n",
      "[37]\tvalidation_0-logloss:0.101287\n",
      "[38]\tvalidation_0-logloss:0.100958\n",
      "[39]\tvalidation_0-logloss:0.098344\n",
      "[40]\tvalidation_0-logloss:0.098003\n",
      "[41]\tvalidation_0-logloss:0.097331\n",
      "[42]\tvalidation_0-logloss:0.097261\n",
      "[43]\tvalidation_0-logloss:0.096413\n",
      "[44]\tvalidation_0-logloss:0.095719\n",
      "[45]\tvalidation_0-logloss:0.095395\n",
      "[46]\tvalidation_0-logloss:0.094755\n",
      "[47]\tvalidation_0-logloss:0.094852\n",
      "[48]\tvalidation_0-logloss:0.094508\n",
      "[49]\tvalidation_0-logloss:0.094041\n",
      "[50]\tvalidation_0-logloss:0.094148\n",
      "[51]\tvalidation_0-logloss:0.094408\n",
      "[52]\tvalidation_0-logloss:0.094237\n",
      "[53]\tvalidation_0-logloss:0.094145\n",
      "[54]\tvalidation_0-logloss:0.094471\n",
      "[55]\tvalidation_0-logloss:0.093976\n",
      "[56]\tvalidation_0-logloss:0.094129\n",
      "[57]\tvalidation_0-logloss:0.093886\n",
      "[58]\tvalidation_0-logloss:0.094295\n",
      "[59]\tvalidation_0-logloss:0.09471\n",
      "[60]\tvalidation_0-logloss:0.094308\n",
      "[61]\tvalidation_0-logloss:0.093829\n",
      "[62]\tvalidation_0-logloss:0.093766\n",
      "[63]\tvalidation_0-logloss:0.093868\n",
      "[64]\tvalidation_0-logloss:0.093028\n",
      "[65]\tvalidation_0-logloss:0.09277\n",
      "[66]\tvalidation_0-logloss:0.0928\n",
      "[67]\tvalidation_0-logloss:0.092861\n",
      "[68]\tvalidation_0-logloss:0.09188\n",
      "[69]\tvalidation_0-logloss:0.092199\n",
      "[70]\tvalidation_0-logloss:0.091364\n",
      "[71]\tvalidation_0-logloss:0.091299\n",
      "[72]\tvalidation_0-logloss:0.09196\n",
      "[73]\tvalidation_0-logloss:0.091993\n",
      "[74]\tvalidation_0-logloss:0.092025\n",
      "[75]\tvalidation_0-logloss:0.091531\n",
      "[76]\tvalidation_0-logloss:0.090924\n",
      "[77]\tvalidation_0-logloss:0.091528\n",
      "[78]\tvalidation_0-logloss:0.090964\n",
      "[79]\tvalidation_0-logloss:0.091285\n",
      "[80]\tvalidation_0-logloss:0.091142\n",
      "[81]\tvalidation_0-logloss:0.091765\n",
      "[82]\tvalidation_0-logloss:0.091084\n",
      "[83]\tvalidation_0-logloss:0.091541\n",
      "[84]\tvalidation_0-logloss:0.091222\n",
      "[85]\tvalidation_0-logloss:0.09074\n",
      "[86]\tvalidation_0-logloss:0.090792\n",
      "[87]\tvalidation_0-logloss:0.090575\n",
      "[88]\tvalidation_0-logloss:0.090282\n",
      "[89]\tvalidation_0-logloss:0.090072\n",
      "[90]\tvalidation_0-logloss:0.09008\n",
      "[91]\tvalidation_0-logloss:0.090385\n",
      "[92]\tvalidation_0-logloss:0.090015\n",
      "[93]\tvalidation_0-logloss:0.090433\n",
      "[94]\tvalidation_0-logloss:0.090294\n",
      "[95]\tvalidation_0-logloss:0.090581\n",
      "[96]\tvalidation_0-logloss:0.090498\n",
      "[97]\tvalidation_0-logloss:0.090584\n",
      "[98]\tvalidation_0-logloss:0.090972\n",
      "[99]\tvalidation_0-logloss:0.090849\n"
     ]
    },
    {
     "data": {
      "text/plain": [
       "XGBClassifier(base_score=0.5, booster='gbtree', colsample_bylevel=1,\n",
       "              colsample_bynode=1, colsample_bytree=1, gamma=0,\n",
       "              learning_rate=0.1, max_delta_step=0, max_depth=3,\n",
       "              min_child_weight=1, missing=None, n_estimators=100, n_jobs=1,\n",
       "              nthread=None, objective='binary:logistic', random_state=0,\n",
       "              reg_alpha=0, reg_lambda=1, scale_pos_weight=1, seed=None,\n",
       "              silent=None, subsample=1, verbosity=1)"
      ]
     },
     "execution_count": 12,
     "metadata": {},
     "output_type": "execute_result"
    }
   ],
   "source": [
    "evals = [(X_test, y_test)] # early-stoping을 위한 테스트 데이터셋\n",
    "xgb_clf.fit(X_train, y_train, early_stopping_rounds=100, eval_set=evals, eval_metric='logloss', verbose=True)"
   ]
  },
  {
   "cell_type": "code",
   "execution_count": 21,
   "metadata": {},
   "outputs": [
    {
     "data": {
      "text/plain": [
       "array([0.00345626, 0.03208838, 0.        , 0.        , 0.00781435,\n",
       "       0.00989557, 0.05250206, 0.16231401, 0.00422309, 0.        ,\n",
       "       0.0126519 , 0.00894055, 0.00952203, 0.01211267, 0.00178637,\n",
       "       0.00895398, 0.0106557 , 0.00066253, 0.00486274, 0.00122855,\n",
       "       0.05695715, 0.02752199, 0.07055458, 0.28433886, 0.01251418,\n",
       "       0.00458541, 0.03461018, 0.15111935, 0.0057479 , 0.0083796 ],\n",
       "      dtype=float32)"
      ]
     },
     "execution_count": 21,
     "metadata": {},
     "output_type": "execute_result"
    }
   ],
   "source": [
    "xgb_clf.feature_importances_"
   ]
  },
  {
   "cell_type": "markdown",
   "metadata": {},
   "source": [
    "## grid search"
   ]
  },
  {
   "cell_type": "code",
   "execution_count": 18,
   "metadata": {},
   "outputs": [],
   "source": [
    "from sklearn.model_selection import GridSearchCV"
   ]
  },
  {
   "cell_type": "code",
   "execution_count": 17,
   "metadata": {},
   "outputs": [],
   "source": [
    "xgb_param = {\n",
    "    'n_estimators':[100,300],\n",
    "    'max_depth':[3,5]\n",
    "}"
   ]
  },
  {
   "cell_type": "code",
   "execution_count": 19,
   "metadata": {},
   "outputs": [],
   "source": [
    "grid_xgb = GridSearchCV(xgb_clf, param_grid=xgb_param, cv=5)"
   ]
  },
  {
   "cell_type": "code",
   "execution_count": 20,
   "metadata": {},
   "outputs": [
    {
     "data": {
      "text/plain": [
       "GridSearchCV(cv=5, error_score=nan,\n",
       "             estimator=XGBClassifier(base_score=0.5, booster='gbtree',\n",
       "                                     colsample_bylevel=1, colsample_bynode=1,\n",
       "                                     colsample_bytree=1, gamma=0,\n",
       "                                     learning_rate=0.1, max_delta_step=0,\n",
       "                                     max_depth=3, min_child_weight=1,\n",
       "                                     missing=None, n_estimators=100, n_jobs=1,\n",
       "                                     nthread=None, objective='binary:logistic',\n",
       "                                     random_state=0, reg_alpha=0, reg_lambda=1,\n",
       "                                     scale_pos_weight=1, seed=None, silent=None,\n",
       "                                     subsample=1, verbosity=1),\n",
       "             iid='deprecated', n_jobs=None,\n",
       "             param_grid={'max_depth': [3, 5], 'n_estimators': [100, 300]},\n",
       "             pre_dispatch='2*n_jobs', refit=True, return_train_score=False,\n",
       "             scoring=None, verbose=0)"
      ]
     },
     "execution_count": 20,
     "metadata": {},
     "output_type": "execute_result"
    }
   ],
   "source": [
    "grid_xgb.fit(X_train, y_train)"
   ]
  },
  {
   "cell_type": "code",
   "execution_count": 22,
   "metadata": {},
   "outputs": [
    {
     "data": {
      "text/plain": [
       "XGBClassifier(base_score=0.5, booster='gbtree', colsample_bylevel=1,\n",
       "              colsample_bynode=1, colsample_bytree=1, gamma=0,\n",
       "              learning_rate=0.1, max_delta_step=0, max_depth=3,\n",
       "              min_child_weight=1, missing=None, n_estimators=100, n_jobs=1,\n",
       "              nthread=None, objective='binary:logistic', random_state=0,\n",
       "              reg_alpha=0, reg_lambda=1, scale_pos_weight=1, seed=None,\n",
       "              silent=None, subsample=1, verbosity=1)"
      ]
     },
     "execution_count": 22,
     "metadata": {},
     "output_type": "execute_result"
    }
   ],
   "source": [
    "grid_xgb.best_estimator_"
   ]
  },
  {
   "cell_type": "markdown",
   "metadata": {},
   "source": [
    "## 시각화"
   ]
  },
  {
   "cell_type": "code",
   "execution_count": 25,
   "metadata": {},
   "outputs": [],
   "source": [
    "from xgboost import plot_importance\n",
    "import matplotlib.pyplot as plt"
   ]
  },
  {
   "cell_type": "code",
   "execution_count": 26,
   "metadata": {},
   "outputs": [
    {
     "data": {
      "image/png": "[encoded data removed]",
      "text/plain": [
       "<Figure size 432x288 with 1 Axes>"
      ]
     },
     "metadata": {
      "needs_background": "light"
     },
     "output_type": "display_data"
    }
   ],
   "source": [
    "plot_importance(xgb_clf)\n",
    "plt.show()"
   ]
  }
 ],
 "metadata": {
  "kernelspec": {
   "display_name": "Python 3",
   "language": "python",
   "name": "python3"
  },
  "language_info": {
   "codemirror_mode": {
    "name": "ipython",
    "version": 3
   },
   "file_extension": ".py",
   "mimetype": "text/x-python",
   "name": "python",
   "nbconvert_exporter": "python",
   "pygments_lexer": "ipython3",
   "version": "3.7.7"
  },
  "toc": {
   "base_numbering": 1,
   "nav_menu": {},
   "number_sections": true,
   "sideBar": true,
   "skip_h1_title": false,
   "title_cell": "Table of Contents",
   "title_sidebar": "Contents",
   "toc_cell": false,
   "toc_position": {},
   "toc_section_display": true,
   "toc_window_display": false
  },
  "varInspector": {
   "cols": {
    "lenName": 16,
    "lenType": 16,
    "lenVar": 40
   },
   "kernels_config": {
    "python": {
     "delete_cmd_postfix": "",
     "delete_cmd_prefix": "del ",
     "library": "var_list.py",
     "varRefreshCmd": "print(var_dic_list())"
    },
    "r": {
     "delete_cmd_postfix": ") ",
     "delete_cmd_prefix": "rm(",
     "library": "var_list.r",
     "varRefreshCmd": "cat(var_dic_list()) "
    }
   },
   "types_to_exclude": [
    "module",
    "function",
    "builtin_function_or_method",
    "instance",
    "_Feature"
   ],
   "window_display": false
  }
 },
 "nbformat": 4,
 "nbformat_minor": 4
}
