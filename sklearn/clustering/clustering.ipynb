{
 "cells": [
  {
   "cell_type": "code",
   "execution_count": 1,
   "metadata": {
    "ExecuteTime": {
     "end_time": "2020-07-29T02:15:31.068172Z",
     "start_time": "2020-07-29T02:15:29.770892Z"
    }
   },
   "outputs": [],
   "source": [
    "from __future__ import print_function\n",
    "from sklearn.cluster import KMeans\n",
    "from sklearn.metrics import silhouette_samples, silhouette_score\n",
    "\n",
    "from scipy.stats import entropy\n",
    "\n",
    "import numpy as np\n",
    "import pandas as pd\n",
    "\n",
    "import matplotlib.pyplot as plt\n",
    "import matplotlib.cm as cm\n",
    "\n",
    "import math\n",
    "import timeit\n",
    "\n",
    "%matplotlib inline"
   ]
  },
  {
   "cell_type": "code",
   "execution_count": 2,
   "metadata": {
    "ExecuteTime": {
     "end_time": "2020-07-29T02:15:31.222513Z",
     "start_time": "2020-07-29T02:15:31.069134Z"
    }
   },
   "outputs": [
    {
     "data": {
      "image/png": "[encoded data removed]",
      "text/plain": [
       "<Figure size 432x288 with 1 Axes>"
      ]
     },
     "metadata": {
      "needs_background": "light"
     },
     "output_type": "display_data"
    }
   ],
   "source": [
    "X = np.array([[2, 0], [3, 0], [4, 0], [10, 0], [11, 0],\n",
    "             [12, 0], [20, 0], [25, 0], [30, 0]])\n",
    "plt.scatter(X[:, 0], X[:, 1], s=100)\n",
    "plt.show()"
   ]
  },
  {
   "cell_type": "code",
   "execution_count": 3,
   "metadata": {
    "ExecuteTime": {
     "end_time": "2020-07-29T02:15:31.232492Z",
     "start_time": "2020-07-29T02:15:31.223510Z"
    }
   },
   "outputs": [
    {
     "data": {
      "text/plain": [
       "(array([2.5, 0. ]), array([16.,  0.]))"
      ]
     },
     "execution_count": 3,
     "metadata": {},
     "output_type": "execute_result"
    }
   ],
   "source": [
    "model1 = KMeans(n_clusters=2, init=np.array([[3,0],[4,0]]),\\\n",
    "                n_init=1, max_iter=1).fit(X)\n",
    "    # n_init 여러번 돌려 그 중 가장 좋은 결과를 보여줌\n",
    "    # 1차원이기에 1번만 함, 다차원일 경우 돌릴떄마다 결과가 다를 수 있어 사용\n",
    "    # max_iter 최대반복횟수\n",
    "c0, c1 = model1.cluster_centers_\n",
    "c0, c1"
   ]
  },
  {
   "cell_type": "code",
   "execution_count": 4,
   "metadata": {
    "ExecuteTime": {
     "end_time": "2020-07-29T02:15:31.241487Z",
     "start_time": "2020-07-29T02:15:31.234481Z"
    }
   },
   "outputs": [
    {
     "data": {
      "text/plain": [
       "-372.75"
      ]
     },
     "execution_count": 4,
     "metadata": {},
     "output_type": "execute_result"
    }
   ],
   "source": [
    "model1.score(X)\n",
    "    # 중심에 얼만큼 밀집되어 있는지 나오는 점보"
   ]
  },
  {
   "cell_type": "code",
   "execution_count": 5,
   "metadata": {
    "ExecuteTime": {
     "end_time": "2020-07-29T02:15:31.250438Z",
     "start_time": "2020-07-29T02:15:31.244454Z"
    }
   },
   "outputs": [],
   "source": [
    "def kmeans_df(model, c0, c1):\n",
    "    df = pd.DataFrame(np.hstack([X,\n",
    "                                 np.linalg.norm(X-c0, axis=1)[:, np.newaxis],\n",
    "                                 np.linalg.norm(X-c1, axis=1)[:, np.newaxis],\n",
    "                                 model.labels_[:,np.newaxis]]),\n",
    "                      columns=['x','y','거리1','거리2','번호'])\n",
    "    return df"
   ]
  },
  {
   "cell_type": "code",
   "execution_count": 6,
   "metadata": {
    "ExecuteTime": {
     "end_time": "2020-07-29T02:15:31.277366Z",
     "start_time": "2020-07-29T02:15:31.253430Z"
    }
   },
   "outputs": [
    {
     "data": {
      "text/html": [
       "<div>\n",
       "<style scoped>\n",
       "    .dataframe tbody tr th:only-of-type {\n",
       "        vertical-align: middle;\n",
       "    }\n",
       "\n",
       "    .dataframe tbody tr th {\n",
       "        vertical-align: top;\n",
       "    }\n",
       "\n",
       "    .dataframe thead th {\n",
       "        text-align: right;\n",
       "    }\n",
       "</style>\n",
       "<table border=\"1\" class=\"dataframe\">\n",
       "  <thead>\n",
       "    <tr style=\"text-align: right;\">\n",
       "      <th></th>\n",
       "      <th>x</th>\n",
       "      <th>y</th>\n",
       "      <th>거리1</th>\n",
       "      <th>거리2</th>\n",
       "      <th>번호</th>\n",
       "    </tr>\n",
       "  </thead>\n",
       "  <tbody>\n",
       "    <tr>\n",
       "      <th>0</th>\n",
       "      <td>2.0</td>\n",
       "      <td>0.0</td>\n",
       "      <td>0.5</td>\n",
       "      <td>14.0</td>\n",
       "      <td>0.0</td>\n",
       "    </tr>\n",
       "    <tr>\n",
       "      <th>1</th>\n",
       "      <td>3.0</td>\n",
       "      <td>0.0</td>\n",
       "      <td>0.5</td>\n",
       "      <td>13.0</td>\n",
       "      <td>0.0</td>\n",
       "    </tr>\n",
       "    <tr>\n",
       "      <th>2</th>\n",
       "      <td>4.0</td>\n",
       "      <td>0.0</td>\n",
       "      <td>1.5</td>\n",
       "      <td>12.0</td>\n",
       "      <td>0.0</td>\n",
       "    </tr>\n",
       "    <tr>\n",
       "      <th>3</th>\n",
       "      <td>10.0</td>\n",
       "      <td>0.0</td>\n",
       "      <td>7.5</td>\n",
       "      <td>6.0</td>\n",
       "      <td>1.0</td>\n",
       "    </tr>\n",
       "    <tr>\n",
       "      <th>4</th>\n",
       "      <td>11.0</td>\n",
       "      <td>0.0</td>\n",
       "      <td>8.5</td>\n",
       "      <td>5.0</td>\n",
       "      <td>1.0</td>\n",
       "    </tr>\n",
       "    <tr>\n",
       "      <th>5</th>\n",
       "      <td>12.0</td>\n",
       "      <td>0.0</td>\n",
       "      <td>9.5</td>\n",
       "      <td>4.0</td>\n",
       "      <td>1.0</td>\n",
       "    </tr>\n",
       "    <tr>\n",
       "      <th>6</th>\n",
       "      <td>20.0</td>\n",
       "      <td>0.0</td>\n",
       "      <td>17.5</td>\n",
       "      <td>4.0</td>\n",
       "      <td>1.0</td>\n",
       "    </tr>\n",
       "    <tr>\n",
       "      <th>7</th>\n",
       "      <td>25.0</td>\n",
       "      <td>0.0</td>\n",
       "      <td>22.5</td>\n",
       "      <td>9.0</td>\n",
       "      <td>1.0</td>\n",
       "    </tr>\n",
       "    <tr>\n",
       "      <th>8</th>\n",
       "      <td>30.0</td>\n",
       "      <td>0.0</td>\n",
       "      <td>27.5</td>\n",
       "      <td>14.0</td>\n",
       "      <td>1.0</td>\n",
       "    </tr>\n",
       "  </tbody>\n",
       "</table>\n",
       "</div>"
      ],
      "text/plain": [
       "      x    y   거리1   거리2   번호\n",
       "0   2.0  0.0   0.5  14.0  0.0\n",
       "1   3.0  0.0   0.5  13.0  0.0\n",
       "2   4.0  0.0   1.5  12.0  0.0\n",
       "3  10.0  0.0   7.5   6.0  1.0\n",
       "4  11.0  0.0   8.5   5.0  1.0\n",
       "5  12.0  0.0   9.5   4.0  1.0\n",
       "6  20.0  0.0  17.5   4.0  1.0\n",
       "7  25.0  0.0  22.5   9.0  1.0\n",
       "8  30.0  0.0  27.5  14.0  1.0"
      ]
     },
     "execution_count": 6,
     "metadata": {},
     "output_type": "execute_result"
    }
   ],
   "source": [
    "kmeans_df(model1,c0,c1)"
   ]
  },
  {
   "cell_type": "code",
   "execution_count": 7,
   "metadata": {
    "ExecuteTime": {
     "end_time": "2020-07-29T02:15:31.289364Z",
     "start_time": "2020-07-29T02:15:31.280359Z"
    }
   },
   "outputs": [],
   "source": [
    "def plot_cluster(model, c0, c1):\n",
    "    plt.scatter(X[model.labels_ == 0, 0],\n",
    "                X[model.labels_ == 0, 1],\n",
    "                s=100, marker='v', c='r')\n",
    "    plt.scatter(X[model.labels_ == 1, 0],\n",
    "                X[model.labels_ == 1, 1],\n",
    "                s=100, marker='^', c='b')\n",
    "    plt.scatter(c0[0], c0[1], s=300, c='r')\n",
    "    plt.scatter(c1[0], c1[1], s=300, c='b')\n",
    "    plt.show()"
   ]
  },
  {
   "cell_type": "code",
   "execution_count": 8,
   "metadata": {
    "ExecuteTime": {
     "end_time": "2020-07-29T02:15:31.452197Z",
     "start_time": "2020-07-29T02:15:31.292326Z"
    }
   },
   "outputs": [
    {
     "data": {
      "image/png": "[encoded data removed]",
      "text/plain": [
       "<Figure size 432x288 with 1 Axes>"
      ]
     },
     "metadata": {
      "needs_background": "light"
     },
     "output_type": "display_data"
    }
   ],
   "source": [
    "plot_cluster(model1, c0, c1)"
   ]
  },
  {
   "cell_type": "code",
   "execution_count": 9,
   "metadata": {
    "ExecuteTime": {
     "end_time": "2020-07-29T02:15:31.462155Z",
     "start_time": "2020-07-29T02:15:31.453157Z"
    }
   },
   "outputs": [
    {
     "data": {
      "text/plain": [
       "(array([3., 0.]), array([18.,  0.]))"
      ]
     },
     "execution_count": 9,
     "metadata": {},
     "output_type": "execute_result"
    }
   ],
   "source": [
    "# 2회차\n",
    "model2 = KMeans(n_clusters=2, init=model1.cluster_centers_,\\\n",
    "                n_init=1, max_iter=1).fit(X)\n",
    "c0, c1 = model2.cluster_centers_\n",
    "c0, c1"
   ]
  },
  {
   "cell_type": "markdown",
   "metadata": {},
   "source": [
    "# 일반적인 방법"
   ]
  },
  {
   "cell_type": "code",
   "execution_count": 10,
   "metadata": {
    "ExecuteTime": {
     "end_time": "2020-07-29T02:15:31.489062Z",
     "start_time": "2020-07-29T02:15:31.464128Z"
    }
   },
   "outputs": [
    {
     "data": {
      "text/plain": [
       "(array([25.,  0.]), array([7., 0.]))"
      ]
     },
     "execution_count": 10,
     "metadata": {},
     "output_type": "execute_result"
    }
   ],
   "source": [
    "# 3회차\n",
    "model = KMeans(n_clusters=2, init='random',\n",
    "                n_init=10, max_iter=100).fit(X)\n",
    "    # n_init 여러번 돌려 그 중 가장 좋은 결과를 보여줌\n",
    "    # 1차원이기에 1번만 함, 다차원일 경우 돌릴떄마다 결과가 다를 수 있어 사용\n",
    "    # max_iter 최대반복횟수\n",
    "c0, c1 = model.cluster_centers_\n",
    "c0, c1"
   ]
  },
  {
   "cell_type": "code",
   "execution_count": 11,
   "metadata": {
    "ExecuteTime": {
     "end_time": "2020-07-29T02:15:31.667585Z",
     "start_time": "2020-07-29T02:15:31.491057Z"
    }
   },
   "outputs": [
    {
     "data": {
      "image/png": "[encoded data removed]",
      "text/plain": [
       "<Figure size 432x288 with 1 Axes>"
      ]
     },
     "metadata": {
      "needs_background": "light"
     },
     "output_type": "display_data"
    }
   ],
   "source": [
    "plot_cluster(model, c0, c1)\n",
    "plt.show()"
   ]
  },
  {
   "cell_type": "markdown",
   "metadata": {},
   "source": [
    "## 평가"
   ]
  },
  {
   "cell_type": "markdown",
   "metadata": {},
   "source": [
    "### SSE"
   ]
  },
  {
   "cell_type": "code",
   "execution_count": 12,
   "metadata": {
    "ExecuteTime": {
     "end_time": "2020-07-29T02:15:31.675565Z",
     "start_time": "2020-07-29T02:15:31.669579Z"
    }
   },
   "outputs": [
    {
     "data": {
      "text/plain": [
       "-150.0"
      ]
     },
     "execution_count": 12,
     "metadata": {},
     "output_type": "execute_result"
    }
   ],
   "source": [
    "model.score(X)"
   ]
  },
  {
   "cell_type": "code",
   "execution_count": 13,
   "metadata": {
    "ExecuteTime": {
     "end_time": "2020-07-29T02:15:31.684541Z",
     "start_time": "2020-07-29T02:15:31.677560Z"
    },
    "scrolled": true
   },
   "outputs": [
    {
     "data": {
      "text/plain": [
       "array([3, 3, 3, 3, 3, 3, 2, 2, 2])"
      ]
     },
     "execution_count": 13,
     "metadata": {},
     "output_type": "execute_result"
    }
   ],
   "source": [
    "X[model.labels_,0]"
   ]
  },
  {
   "cell_type": "markdown",
   "metadata": {},
   "source": [
    "### seperation"
   ]
  },
  {
   "cell_type": "code",
   "execution_count": 14,
   "metadata": {
    "ExecuteTime": {
     "end_time": "2020-07-29T02:15:31.694514Z",
     "start_time": "2020-07-29T02:15:31.686534Z"
    }
   },
   "outputs": [],
   "source": [
    "def k_cohesion(model,c0,c1, X):\n",
    "    total_mean = np.mean(X[:,0])\n",
    "    m1=np.mean(X[model.labels_ == 0,0])\n",
    "    m2=np.mean(X[model.labels_ == 1,0])\n",
    "    count1 = np.count_nonzero(np.mean(X[model.labels_ ,0]==2))\n",
    "    count2 = np.count_nonzero(np.mean(X[model.labels_ ,0]==3))\n",
    "    separation = count1*(total_mean-m1)**2 + count2*(total_mean-m2)**2\n",
    "    return separation"
   ]
  },
  {
   "cell_type": "code",
   "execution_count": null,
   "metadata": {
    "ExecuteTime": {
     "end_time": "2020-07-29T02:15:31.702491Z",
     "start_time": "2020-07-29T02:15:31.696509Z"
    }
   },
   "outputs": [],
   "source": [
    "k_cohesion(model, c0, c1, X)"
   ]
  },
  {
   "cell_type": "markdown",
   "metadata": {},
   "source": [
    "### 유사도 matrix"
   ]
  },
  {
   "cell_type": "code",
   "execution_count": 16,
   "metadata": {
    "ExecuteTime": {
     "end_time": "2020-07-29T02:15:31.713462Z",
     "start_time": "2020-07-29T02:15:31.705483Z"
    }
   },
   "outputs": [],
   "source": [
    "def s_matrix(model,X):\n",
    "    list1=[]\n",
    "    list1.clear()\n",
    "    for i in range(0, np.count_nonzero(X)):\n",
    "        list1.append([])\n",
    "        for j in range(0, np.count_nonzero(X)):\n",
    "            if model.labels_[i]==model.labels_[j]:\n",
    "                list1[i].append(1)\n",
    "            else:\n",
    "                list1[i].append(0)\n",
    "    return list1"
   ]
  },
  {
   "cell_type": "code",
   "execution_count": 17,
   "metadata": {
    "ExecuteTime": {
     "end_time": "2020-07-29T02:15:31.724436Z",
     "start_time": "2020-07-29T02:15:31.715456Z"
    }
   },
   "outputs": [
    {
     "data": {
      "text/plain": [
       "[[1, 1, 1, 1, 1, 1, 0, 0, 0],\n",
       " [1, 1, 1, 1, 1, 1, 0, 0, 0],\n",
       " [1, 1, 1, 1, 1, 1, 0, 0, 0],\n",
       " [1, 1, 1, 1, 1, 1, 0, 0, 0],\n",
       " [1, 1, 1, 1, 1, 1, 0, 0, 0],\n",
       " [1, 1, 1, 1, 1, 1, 0, 0, 0],\n",
       " [0, 0, 0, 0, 0, 0, 1, 1, 1],\n",
       " [0, 0, 0, 0, 0, 0, 1, 1, 1],\n",
       " [0, 0, 0, 0, 0, 0, 1, 1, 1]]"
      ]
     },
     "execution_count": 17,
     "metadata": {},
     "output_type": "execute_result"
    }
   ],
   "source": [
    "s_matrix(model,X)"
   ]
  },
  {
   "cell_type": "markdown",
   "metadata": {},
   "source": [
    "### entropy"
   ]
  },
  {
   "cell_type": "code",
   "execution_count": 18,
   "metadata": {
    "ExecuteTime": {
     "end_time": "2020-07-29T02:15:31.733409Z",
     "start_time": "2020-07-29T02:15:31.726428Z"
    }
   },
   "outputs": [],
   "source": [
    "def entropy(labels):\n",
    "    '''computes entropy of 0-1 vector'''\n",
    "    n_labels = len(labels)\n",
    "    \n",
    "    if n_labels <= 1:\n",
    "        return 0\n",
    "    \n",
    "    counts = np.bincount(labels)\n",
    "    probs = counts[np.nonzero(counts)] / n_labels\n",
    "    n_classes = len(probs)\n",
    "    \n",
    "    if n_classes <=1:\n",
    "        return 0\n",
    "    return -np.sum(probs*np.log(probs)) / np.log(n_classes)"
   ]
  },
  {
   "cell_type": "code",
   "execution_count": 19,
   "metadata": {
    "ExecuteTime": {
     "end_time": "2020-07-29T02:15:31.742414Z",
     "start_time": "2020-07-29T02:15:31.736402Z"
    }
   },
   "outputs": [
    {
     "data": {
      "text/plain": [
       "0.9182958340544894"
      ]
     },
     "execution_count": 19,
     "metadata": {},
     "output_type": "execute_result"
    }
   ],
   "source": [
    "entropy(model.labels_)"
   ]
  },
  {
   "cell_type": "markdown",
   "metadata": {},
   "source": [
    "## 좋은 K를 찾는 방법\n",
    "SSE지표를 활용"
   ]
  },
  {
   "cell_type": "code",
   "execution_count": 20,
   "metadata": {
    "ExecuteTime": {
     "end_time": "2020-07-29T02:15:31.981744Z",
     "start_time": "2020-07-29T02:15:31.744379Z"
    }
   },
   "outputs": [
    {
     "data": {
      "text/plain": [
       "[798.0, 150.0, 54.0, 16.5, 4.0, 2.5, 1.0, 0.5, 0.0]"
      ]
     },
     "execution_count": 20,
     "metadata": {},
     "output_type": "execute_result"
    }
   ],
   "source": [
    "ks = range(1,10)\n",
    "intertias = [] #SSE\n",
    "\n",
    "for k in ks:\n",
    "    model = KMeans(n_clusters=k)\n",
    "    model.fit(X)\n",
    "    intertias.append(model.inertia_) # model.inertia_ : 양수의 SSE\n",
    "\n",
    "intertias"
   ]
  },
  {
   "cell_type": "code",
   "execution_count": 21,
   "metadata": {
    "ExecuteTime": {
     "end_time": "2020-07-29T02:15:32.111399Z",
     "start_time": "2020-07-29T02:15:31.982741Z"
    }
   },
   "outputs": [
    {
     "data": {
      "image/png": "[encoded data removed]",
      "text/plain": [
       "<Figure size 432x288 with 1 Axes>"
      ]
     },
     "metadata": {
      "needs_background": "light"
     },
     "output_type": "display_data"
    }
   ],
   "source": [
    "plt.plot(ks,intertias,'-o')\n",
    "plt.xlabel('number of clusters, K')\n",
    "plt.ylabel('SSE')\n",
    "plt.xticks(ks)\n",
    "plt.show()"
   ]
  },
  {
   "cell_type": "markdown",
   "metadata": {},
   "source": [
    "# 2차원 데이터"
   ]
  },
  {
   "cell_type": "code",
   "execution_count": 30,
   "metadata": {
    "ExecuteTime": {
     "end_time": "2020-07-29T02:15:59.222804Z",
     "start_time": "2020-07-29T02:15:59.081334Z"
    }
   },
   "outputs": [
    {
     "data": {
      "image/png": "[encoded data removed]",
      "text/plain": [
       "<Figure size 432x288 with 1 Axes>"
      ]
     },
     "metadata": {
      "needs_background": "light"
     },
     "output_type": "display_data"
    }
   ],
   "source": [
    "X = np.array([[7, 5], [5, 7], [7, 7], [4, 4], [4, 6], [1, 4],\n",
    "              [0, 0], [2, 2], [8, 7], [6, 8], [5, 5], [3, 7]])\n",
    "plt.scatter(X[:, 0], X[:, 1], s=100)\n",
    "plt.show()"
   ]
  },
  {
   "cell_type": "code",
   "execution_count": 31,
   "metadata": {
    "ExecuteTime": {
     "end_time": "2020-07-29T02:15:59.644143Z",
     "start_time": "2020-07-29T02:15:59.440111Z"
    }
   },
   "outputs": [
    {
     "data": {
      "text/plain": [
       "[130.33333333333334,\n",
       " 45.77777777777777,\n",
       " 26.35,\n",
       " 19.5,\n",
       " 12.916666666666666,\n",
       " 9.666666666666666,\n",
       " 6.333333333333333,\n",
       " 4.166666666666667,\n",
       " 2.5]"
      ]
     },
     "execution_count": 31,
     "metadata": {},
     "output_type": "execute_result"
    }
   ],
   "source": [
    "ks = range(1,10)\n",
    "intertias = []\n",
    "\n",
    "for k in ks:\n",
    "    model = KMeans(n_clusters=k)\n",
    "    model.fit(X)\n",
    "    intertias.append(model.inertia_)\n",
    "\n",
    "intertias"
   ]
  },
  {
   "cell_type": "code",
   "execution_count": 32,
   "metadata": {
    "ExecuteTime": {
     "end_time": "2020-07-29T02:16:00.032393Z",
     "start_time": "2020-07-29T02:15:59.890227Z"
    }
   },
   "outputs": [
    {
     "data": {
      "image/png": "[encoded data removed]",
      "text/plain": [
       "<Figure size 432x288 with 1 Axes>"
      ]
     },
     "metadata": {
      "needs_background": "light"
     },
     "output_type": "display_data"
    }
   ],
   "source": [
    "plt.plot(ks,intertias,'-o')\n",
    "plt.xlabel('number of clusters, K')\n",
    "plt.ylabel('SSE')\n",
    "plt.xticks(ks)\n",
    "plt.show()"
   ]
  },
  {
   "cell_type": "code",
   "execution_count": 33,
   "metadata": {
    "ExecuteTime": {
     "end_time": "2020-07-29T02:16:00.247441Z",
     "start_time": "2020-07-29T02:16:00.225501Z"
    }
   },
   "outputs": [
    {
     "name": "stdout",
     "output_type": "stream",
     "text": [
      "[[1.         2.        ]\n",
      " [5.44444444 6.22222222]]\n"
     ]
    }
   ],
   "source": [
    "model3 = KMeans(n_clusters=2, init='random', random_state=1,\n",
    "                n_init=10, max_iter=100).fit(X)\n",
    "print(model3.cluster_centers_)"
   ]
  },
  {
   "cell_type": "code",
   "execution_count": 38,
   "metadata": {
    "ExecuteTime": {
     "end_time": "2020-07-29T02:17:44.029245Z",
     "start_time": "2020-07-29T02:17:44.022215Z"
    }
   },
   "outputs": [
    {
     "data": {
      "text/plain": [
       "0.8112781244591328"
      ]
     },
     "execution_count": 38,
     "metadata": {},
     "output_type": "execute_result"
    }
   ],
   "source": [
    "entropy(model3.labels_)"
   ]
  },
  {
   "cell_type": "code",
   "execution_count": 37,
   "metadata": {
    "ExecuteTime": {
     "end_time": "2020-07-29T02:16:29.448461Z",
     "start_time": "2020-07-29T02:16:29.298860Z"
    }
   },
   "outputs": [
    {
     "data": {
      "image/png": "[encoded data removed]",
      "text/plain": [
       "<Figure size 432x288 with 1 Axes>"
      ]
     },
     "metadata": {
      "needs_background": "light"
     },
     "output_type": "display_data"
    }
   ],
   "source": [
    "c0, c1 = model3.cluster_centers_\n",
    "plot_cluster(model3, c0, c1)\n",
    "plt.show()"
   ]
  },
  {
   "cell_type": "code",
   "execution_count": 28,
   "metadata": {
    "ExecuteTime": {
     "end_time": "2020-07-29T02:15:32.877487Z",
     "start_time": "2020-07-29T02:15:32.857540Z"
    }
   },
   "outputs": [
    {
     "name": "stdout",
     "output_type": "stream",
     "text": [
      "[[7.   6.75]\n",
      " [4.2  5.8 ]\n",
      " [1.   2.  ]]\n"
     ]
    }
   ],
   "source": [
    "model4 = KMeans(n_clusters=3, init='random', random_state=1,\n",
    "                n_init=10, max_iter=100).fit(X)\n",
    "print(model4.cluster_centers_)"
   ]
  },
  {
   "cell_type": "code",
   "execution_count": 39,
   "metadata": {
    "ExecuteTime": {
     "end_time": "2020-07-29T02:17:52.596828Z",
     "start_time": "2020-07-29T02:17:52.590712Z"
    }
   },
   "outputs": [
    {
     "data": {
      "text/plain": [
       "0.9808340377961402"
      ]
     },
     "execution_count": 39,
     "metadata": {},
     "output_type": "execute_result"
    }
   ],
   "source": [
    "entropy(model4.labels_)"
   ]
  }
 ],
 "metadata": {
  "kernelspec": {
   "display_name": "Python 3",
   "language": "python",
   "name": "python3"
  },
  "language_info": {
   "codemirror_mode": {
    "name": "ipython",
    "version": 3
   },
   "file_extension": ".py",
   "mimetype": "text/x-python",
   "name": "python",
   "nbconvert_exporter": "python",
   "pygments_lexer": "ipython3",
   "version": "3.7.7"
  },
  "toc": {
   "base_numbering": 1,
   "nav_menu": {},
   "number_sections": true,
   "sideBar": true,
   "skip_h1_title": false,
   "title_cell": "Table of Contents",
   "title_sidebar": "Contents",
   "toc_cell": false,
   "toc_position": {},
   "toc_section_display": true,
   "toc_window_display": false
  },
  "varInspector": {
   "cols": {
    "lenName": 16,
    "lenType": 16,
    "lenVar": 40
   },
   "kernels_config": {
    "python": {
     "delete_cmd_postfix": "",
     "delete_cmd_prefix": "del ",
     "library": "var_list.py",
     "varRefreshCmd": "print(var_dic_list())"
    },
    "r": {
     "delete_cmd_postfix": ") ",
     "delete_cmd_prefix": "rm(",
     "library": "var_list.r",
     "varRefreshCmd": "cat(var_dic_list()) "
    }
   },
   "types_to_exclude": [
    "module",
    "function",
    "builtin_function_or_method",
    "instance",
    "_Feature"
   ],
   "window_display": false
  }
 },
 "nbformat": 4,
 "nbformat_minor": 4
}
