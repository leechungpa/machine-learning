{
 "cells": [
  {
   "cell_type": "code",
   "execution_count": 1,
   "metadata": {},
   "outputs": [],
   "source": [
    "from sklearn import datasets\n",
    "from sklearn import model_selection\n",
    "import numpy as np\n",
    "import pandas as pd"
   ]
  },
  {
   "cell_type": "markdown",
   "metadata": {},
   "source": [
    "# SVM"
   ]
  },
  {
   "cell_type": "markdown",
   "metadata": {},
   "source": [
    "SVM은 데이터 특성의 스케일에 민감\n",
    "\n",
    "표준 정규 분포로 전처리 해야 함 : 더 좋은 classify를 하고 속도도 빨라짐"
   ]
  },
  {
   "cell_type": "code",
   "execution_count": 2,
   "metadata": {},
   "outputs": [],
   "source": [
    "from sklearn import preprocessing"
   ]
  },
  {
   "cell_type": "code",
   "execution_count": 3,
   "metadata": {},
   "outputs": [],
   "source": [
    "scaler = preprocessing.StandardScaler()"
   ]
  },
  {
   "cell_type": "code",
   "execution_count": 4,
   "metadata": {},
   "outputs": [
    {
     "data": {
      "text/plain": [
       "array([[-1.38873015, -0.9258201 ],\n",
       "       [ 0.46291005,  0.9258201 ],\n",
       "       [-0.9258201 , -0.46291005],\n",
       "       [ 0.9258201 ,  1.38873015],\n",
       "       [-0.46291005, -1.38873015],\n",
       "       [ 1.38873015,  0.46291005]])"
      ]
     },
     "execution_count": 4,
     "metadata": {},
     "output_type": "execute_result"
    }
   ],
   "source": [
    "scaler.fit_transform( [[1,2],[5,6],[2,3],[6,7],[3,1],[7,5]])"
   ]
  },
  {
   "cell_type": "markdown",
   "metadata": {},
   "source": [
    "# Hard Margin\n",
    "\n",
    "초평면으로 모든 것을 구분할 수 있는 경우\n",
    "\n",
    "maximum margin classifier"
   ]
  },
  {
   "cell_type": "code",
   "execution_count": 5,
   "metadata": {},
   "outputs": [],
   "source": [
    "from sklearn import svm\n",
    "from sklearn import metrics"
   ]
  },
  {
   "cell_type": "code",
   "execution_count": 6,
   "metadata": {},
   "outputs": [],
   "source": [
    "X_train = [[1,2],[5,6],[2,3],[6,7],[3,1],[7,5]]\n",
    "y_train = [0,1, 0, 1, 0, 1]\n",
    "X_test = [[1.5, 3.1],[4, 4.5],[6.7, 4.7]]\n",
    "y_test = [0, 0, 1]"
   ]
  },
  {
   "cell_type": "code",
   "execution_count": 7,
   "metadata": {},
   "outputs": [
    {
     "data": {
      "text/plain": [
       "SVC(C=1.0, break_ties=False, cache_size=200, class_weight=None, coef0=0.0,\n",
       "    decision_function_shape='ovr', degree=3, gamma='scale', kernel='linear',\n",
       "    max_iter=-1, probability=False, random_state=None, shrinking=True,\n",
       "    tol=0.001, verbose=False)"
      ]
     },
     "execution_count": 7,
     "metadata": {},
     "output_type": "execute_result"
    }
   ],
   "source": [
    "h_model = svm.LinearSVC().fit(X_train, y_train)\n",
    "    # 훈련 데이터가 크거나 특성 수가 많아도 수행이 빠름\n",
    "svm.SVC(kernel='linear').fit(X_train, y_train) # 동일\n",
    "    # 복잡하지만 규모가 크지 않은 데이터의 학습에 적합"
   ]
  },
  {
   "cell_type": "code",
   "execution_count": 8,
   "metadata": {},
   "outputs": [],
   "source": [
    "y_pred = h_model.predict(X_test)"
   ]
  },
  {
   "cell_type": "code",
   "execution_count": 9,
   "metadata": {},
   "outputs": [
    {
     "data": {
      "text/plain": [
       "array([0, 1, 1])"
      ]
     },
     "execution_count": 9,
     "metadata": {},
     "output_type": "execute_result"
    }
   ],
   "source": [
    "y_pred"
   ]
  },
  {
   "cell_type": "code",
   "execution_count": 10,
   "metadata": {},
   "outputs": [
    {
     "data": {
      "text/plain": [
       "0.6666666666666666"
      ]
     },
     "execution_count": 10,
     "metadata": {},
     "output_type": "execute_result"
    }
   ],
   "source": [
    "metrics.accuracy_score(y_test, y_pred)\n",
    "    # 정확도"
   ]
  },
  {
   "cell_type": "code",
   "execution_count": 11,
   "metadata": {},
   "outputs": [
    {
     "data": {
      "text/plain": [
       "0.6666666666666666"
      ]
     },
     "execution_count": 11,
     "metadata": {},
     "output_type": "execute_result"
    }
   ],
   "source": [
    "h_model.score(X_test, y_test)\n",
    "    # 정확도"
   ]
  },
  {
   "cell_type": "markdown",
   "metadata": {},
   "source": [
    "## 시각화"
   ]
  },
  {
   "cell_type": "code",
   "execution_count": 12,
   "metadata": {},
   "outputs": [],
   "source": [
    "import matplotlib.pyplot as plt"
   ]
  },
  {
   "cell_type": "code",
   "execution_count": 13,
   "metadata": {},
   "outputs": [],
   "source": [
    "xx = np.linspace(1, 7)\n",
    "\n",
    "b1 = h_model.coef_[0][0]/h_model.coef_[0][1]\n",
    "b0 = h_model.intercept_[0]/h_model.coef_[0][1]\n",
    "yy = -b1*xx - b0"
   ]
  },
  {
   "cell_type": "code",
   "execution_count": 14,
   "metadata": {},
   "outputs": [],
   "source": [
    "c_set = ['blue','red']\n",
    "m_set = ['o','D']\n",
    "l_train_set = ['class0 (train)','class1 (train)']\n",
    "l_test_set = ['class0 (test)','class1 (test)']\n",
    "l_pred_set = ['class0 (pred)','class1 (pred)']"
   ]
  },
  {
   "cell_type": "code",
   "execution_count": 15,
   "metadata": {
    "scrolled": true
   },
   "outputs": [
    {
     "data": {
      "image/png": "[encoded data removed]",
      "text/plain": [
       "<Figure size 432x288 with 1 Axes>"
      ]
     },
     "metadata": {
      "needs_background": "light"
     },
     "output_type": "display_data"
    }
   ],
   "source": [
    "for t in set(y_train):\n",
    "    xx_pts = [X_train[cnt][0]\n",
    "              for cnt in range(len(y_train)) if y_train[cnt] == t]\n",
    "    yy_pts = [X_train[cnt][1]\n",
    "              for cnt in range(len(y_train)) if y_train[cnt] == t]\n",
    "    plt.scatter(xx_pts, yy_pts, marker=m_set[t], label=l_train_set[t],\\\n",
    "               color=c_set[t], s=60)\n",
    "\n",
    "for t in set(y_test):\n",
    "    xx_pts = [X_test[cnt][0]\n",
    "              for cnt in range(len(y_test)) if y_test[cnt] == t]\n",
    "    yy_pts = [X_test[cnt][1]\n",
    "              for cnt in range(len(y_test)) if y_test[cnt] == t]\n",
    "    plt.scatter(xx_pts, yy_pts, marker=m_set[t], label=l_test_set[t],\\\n",
    "               edgecolors=c_set[t], facecolors='none', s=60)\n",
    "\n",
    "for t in set(y_pred):\n",
    "    xx_pts = [X_test[cnt][0]\n",
    "              for cnt in range(len(y_pred)) if y_pred[cnt] == t]\n",
    "    yy_pts = [X_test[cnt][1]\n",
    "              for cnt in range(len(y_pred)) if y_pred[cnt] == t]\n",
    "    plt.scatter(xx_pts, yy_pts, marker=m_set[t], label=l_pred_set[t],\\\n",
    "               edgecolors='black', facecolors='none', s=140)\n",
    "\n",
    "plt.plot(xx, yy, color='green', linestyle='--') \n",
    "plt.title('Linear SVM (Hard Margin)')\n",
    "plt.xlabel('X-axis')\n",
    "plt.ylabel('Y-axis')\n",
    "plt.text(1.5,6,'Y = {0:.3f}X {1:.3f}'.format(b1,b0))\n",
    "plt.legend(bbox_to_anchor=(1.01, 0.7))\n",
    "plt.show()"
   ]
  },
  {
   "cell_type": "markdown",
   "metadata": {},
   "source": [
    "# Soft Margin\n",
    "\n",
    "실제로 초평면으로 모든 것을 구분할 수는 없음\n",
    "\n",
    "어느정도 오류를 허용 : soft margin\n",
    "\n",
    "    하이퍼파라미터 C로 허용할 오류의 수준을 조정\n",
    "    C가 큼 : margin 작아짐, 오분류율이 낮아짐, 과대적합의 위험\n",
    "    C가 작음 : margin 커짐, 오분류율이 높아짐, 과소적합의 위험\n",
    "\n",
    "supprot vector classifier"
   ]
  },
  {
   "cell_type": "code",
   "execution_count": 16,
   "metadata": {},
   "outputs": [],
   "source": [
    "iris = datasets.load_iris()\n",
    "X = iris.data[:, (2,3)]\n",
    "y = (iris.target == 2).astype(np.int)"
   ]
  },
  {
   "cell_type": "code",
   "execution_count": 17,
   "metadata": {},
   "outputs": [],
   "source": [
    "X_train, X_test, y_train, y_test = model_selection.train_test_split(\n",
    "    X, y, test_size=0.3, random_state=29)"
   ]
  },
  {
   "cell_type": "code",
   "execution_count": 18,
   "metadata": {},
   "outputs": [],
   "source": [
    "model = svm.SVC(C=1, kernel='linear').fit(X_train, y_train)\n",
    "y_pred = model.predict(X_test)"
   ]
  },
  {
   "cell_type": "code",
   "execution_count": 21,
   "metadata": {},
   "outputs": [
    {
     "name": "stdout",
     "output_type": "stream",
     "text": [
      "0.9555555555555556\n",
      "              precision    recall  f1-score   support\n",
      "\n",
      "           0       0.96      0.96      0.96        28\n",
      "           1       0.94      0.94      0.94        17\n",
      "\n",
      "    accuracy                           0.96        45\n",
      "   macro avg       0.95      0.95      0.95        45\n",
      "weighted avg       0.96      0.96      0.96        45\n",
      "\n"
     ]
    }
   ],
   "source": [
    "print(metrics.accuracy_score(y_test, y_pred))\n",
    "\n",
    "print(metrics.classification_report(y_test, y_pred))"
   ]
  },
  {
   "cell_type": "code",
   "execution_count": 26,
   "metadata": {},
   "outputs": [],
   "source": [
    "model2 = svm.SVC(C=100, kernel='linear').fit(X_train, y_train)\n",
    "y_pred2 = model2.predict(X_test)"
   ]
  },
  {
   "cell_type": "code",
   "execution_count": 27,
   "metadata": {},
   "outputs": [
    {
     "name": "stdout",
     "output_type": "stream",
     "text": [
      "0.9333333333333333\n",
      "              precision    recall  f1-score   support\n",
      "\n",
      "           0       0.93      0.96      0.95        28\n",
      "           1       0.94      0.88      0.91        17\n",
      "\n",
      "    accuracy                           0.93        45\n",
      "   macro avg       0.93      0.92      0.93        45\n",
      "weighted avg       0.93      0.93      0.93        45\n",
      "\n"
     ]
    }
   ],
   "source": [
    "print(metrics.accuracy_score(y_test, y_pred2))\n",
    "\n",
    "print(metrics.classification_report(y_test, y_pred2))"
   ]
  },
  {
   "cell_type": "markdown",
   "metadata": {},
   "source": [
    "# Multi-class classification\n",
    "\n",
    "이진 분류만 가능한 방법이라도 이를 조합하여 분류 수행 가능\n",
    "\n",
    "- one-vs-one 전략 : K개의 클래스중 2개를 뽑아 모든 조합에 대해 수행($_KC_2$)하여 가장 많이 나온 결과를 선택\n",
    "\n",
    "- one-vs-all 전략 : K개의 클래스 각각별로 포함되는지 안되는지 수행($K$)하여 가장 높은 결과 값을 선택\n",
    "\n",
    "SVC는 OVO 전략을 이용 (sklearn은 자동으로 해줌)"
   ]
  },
  {
   "cell_type": "code",
   "execution_count": 28,
   "metadata": {},
   "outputs": [],
   "source": [
    "iris = datasets.load_iris()\n",
    "X = iris.data[:, (2,3)]\n",
    "y = iris.target"
   ]
  },
  {
   "cell_type": "code",
   "execution_count": 31,
   "metadata": {},
   "outputs": [],
   "source": [
    "X_train, X_test, y_train, y_test = model_selection.train_test_split(\n",
    "    X, y, test_size=0.3, random_state=29)"
   ]
  },
  {
   "cell_type": "code",
   "execution_count": 32,
   "metadata": {},
   "outputs": [],
   "source": [
    "m_model = svm.SVC(C=1, kernel='linear').fit(X_train, y_train)\n",
    "y_pred = m_model.predict(X_test)"
   ]
  },
  {
   "cell_type": "code",
   "execution_count": 33,
   "metadata": {},
   "outputs": [
    {
     "name": "stdout",
     "output_type": "stream",
     "text": [
      "0.9555555555555556\n",
      "              precision    recall  f1-score   support\n",
      "\n",
      "           0       1.00      1.00      1.00        13\n",
      "           1       0.93      0.93      0.93        15\n",
      "           2       0.94      0.94      0.94        17\n",
      "\n",
      "    accuracy                           0.96        45\n",
      "   macro avg       0.96      0.96      0.96        45\n",
      "weighted avg       0.96      0.96      0.96        45\n",
      "\n"
     ]
    }
   ],
   "source": [
    "print(metrics.accuracy_score(y_test, y_pred))\n",
    "\n",
    "print(metrics.classification_report(y_test, y_pred))"
   ]
  }
 ],
 "metadata": {
  "kernelspec": {
   "display_name": "Python 3",
   "language": "python",
   "name": "python3"
  },
  "language_info": {
   "codemirror_mode": {
    "name": "ipython",
    "version": 3
   },
   "file_extension": ".py",
   "mimetype": "text/x-python",
   "name": "python",
   "nbconvert_exporter": "python",
   "pygments_lexer": "ipython3",
   "version": "3.7.7"
  },
  "toc": {
   "base_numbering": 1,
   "nav_menu": {},
   "number_sections": true,
   "sideBar": true,
   "skip_h1_title": false,
   "title_cell": "Table of Contents",
   "title_sidebar": "Contents",
   "toc_cell": false,
   "toc_position": {},
   "toc_section_display": true,
   "toc_window_display": false
  },
  "varInspector": {
   "cols": {
    "lenName": 16,
    "lenType": 16,
    "lenVar": 40
   },
   "kernels_config": {
    "python": {
     "delete_cmd_postfix": "",
     "delete_cmd_prefix": "del ",
     "library": "var_list.py",
     "varRefreshCmd": "print(var_dic_list())"
    },
    "r": {
     "delete_cmd_postfix": ") ",
     "delete_cmd_prefix": "rm(",
     "library": "var_list.r",
     "varRefreshCmd": "cat(var_dic_list()) "
    }
   },
   "types_to_exclude": [
    "module",
    "function",
    "builtin_function_or_method",
    "instance",
    "_Feature"
   ],
   "window_display": false
  }
 },
 "nbformat": 4,
 "nbformat_minor": 4
}
