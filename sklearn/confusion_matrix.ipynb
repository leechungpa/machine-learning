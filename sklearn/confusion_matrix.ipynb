{
 "cells": [
  {
   "cell_type": "code",
   "execution_count": 1,
   "metadata": {},
   "outputs": [],
   "source": [
    "from sklearn import metrics"
   ]
  },
  {
   "cell_type": "code",
   "execution_count": 2,
   "metadata": {},
   "outputs": [],
   "source": [
    "actual_result = [1, 0, 0, 1, 1]\n",
    "predicted_result = [0, 1, 0, 1, 0]"
   ]
  },
  {
   "cell_type": "code",
   "execution_count": 3,
   "metadata": {},
   "outputs": [],
   "source": [
    "    # 항상 실제 결과가 먼저, 예측 결과가 뒤에\n",
    "accuracy = metrics.accuracy_score(actual_result, predicted_result)\n",
    "matrix = metrics.confusion_matrix(actual_result, predicted_result)\n",
    "precision = metrics.precision_score(actual_result, predicted_result)\n",
    "recall = metrics.recall_score(actual_result, predicted_result)\n",
    "f1score = metrics.f1_score(actual_result, predicted_result)\n",
    "scores = metrics.classification_report(actual_result, predicted_result)"
   ]
  },
  {
   "cell_type": "code",
   "execution_count": 8,
   "metadata": {},
   "outputs": [
    {
     "name": "stdout",
     "output_type": "stream",
     "text": [
      "정확도 :  0.4 \n",
      "\n",
      "오차행렬 : \n",
      " [[1 1]\n",
      " [2 1]] \n",
      "\n"
     ]
    }
   ],
   "source": [
    "print(\"정확도 : \",accuracy,'\\n')\n",
    "print(\"오차행렬 : \\n\",matrix,'\\n')\n",
    "    # 오차행렬의 행과 열은 클래스 번호 순서대로 표시\n",
    "    # 즉 첫 행이 class 0을 의미\n",
    "    # 행이 실제, 칼럼이 예측    "
   ]
  },
  {
   "cell_type": "code",
   "execution_count": 9,
   "metadata": {},
   "outputs": [
    {
     "name": "stdout",
     "output_type": "stream",
     "text": [
      "정밀도 :  0.5 \n",
      "\n",
      "재현율 :  0.3333333333333333 \n",
      "\n",
      "F1스코어 :  0.4 \n",
      "\n"
     ]
    }
   ],
   "source": [
    "print(\"정밀도 : \",precision,'\\n')\n",
    "print(\"재현율 : \",recall,'\\n')\n",
    "print(\"F1스코어 : \",f1score,'\\n')"
   ]
  },
  {
   "cell_type": "code",
   "execution_count": 10,
   "metadata": {},
   "outputs": [
    {
     "name": "stdout",
     "output_type": "stream",
     "text": [
      "결과 : \n",
      "               precision    recall  f1-score   support\n",
      "\n",
      "           0       0.33      0.50      0.40         2\n",
      "           1       0.50      0.33      0.40         3\n",
      "\n",
      "    accuracy                           0.40         5\n",
      "   macro avg       0.42      0.42      0.40         5\n",
      "weighted avg       0.43      0.40      0.40         5\n",
      " \n",
      "\n"
     ]
    }
   ],
   "source": [
    "print(\"결과 : \\n\",scores,'\\n')\n",
    "    # micro avg : 전체의 평균\n",
    "    # macro avg : 집단별 평균의 평균 (즉 각 집단의 평균은 같은 비중이 됨)\n",
    "    # weigted avg : 집단별 평균을 가중치를 부여해서 구한 평균"
   ]
  }
 ],
 "metadata": {
  "kernelspec": {
   "display_name": "Python 3",
   "language": "python",
   "name": "python3"
  },
  "language_info": {
   "codemirror_mode": {
    "name": "ipython",
    "version": 3
   },
   "file_extension": ".py",
   "mimetype": "text/x-python",
   "name": "python",
   "nbconvert_exporter": "python",
   "pygments_lexer": "ipython3",
   "version": "3.7.7"
  },
  "toc": {
   "base_numbering": 1,
   "nav_menu": {},
   "number_sections": true,
   "sideBar": true,
   "skip_h1_title": false,
   "title_cell": "Table of Contents",
   "title_sidebar": "Contents",
   "toc_cell": false,
   "toc_position": {},
   "toc_section_display": true,
   "toc_window_display": false
  }
 },
 "nbformat": 4,
 "nbformat_minor": 4
}
