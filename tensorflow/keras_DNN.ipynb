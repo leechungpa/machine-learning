{
 "cells": [
  {
   "cell_type": "code",
   "execution_count": 99,
   "metadata": {
    "colab": {},
    "colab_type": "code",
    "id": "jIavl08Z8Z1t"
   },
   "outputs": [],
   "source": [
    "from sklearn.datasets import load_iris\n",
    "from sklearn.datasets import fetch_openml\n",
    "from sklearn.model_selection import train_test_split\n",
    "from sklearn import metrics\n",
    "\n",
    "from keras.utils import to_categorical\n",
    "from keras.models import Sequential\n",
    "from keras.layers import Dense\n",
    "from keras.optimizers import Adam\n",
    "\n",
    "import numpy as np\n",
    "\n",
    "import matplotlib.pyplot as plt"
   ]
  },
  {
   "cell_type": "markdown",
   "metadata": {
    "colab_type": "text",
    "id": "-usS4kylXo4Y"
   },
   "source": [
    "# Deep Neural Network"
   ]
  },
  {
   "cell_type": "code",
   "execution_count": 100,
   "metadata": {
    "colab": {},
    "colab_type": "code",
    "id": "gXTyIBc88h_v"
   },
   "outputs": [],
   "source": [
    "iris = load_iris()\n",
    "X, y = iris.data, iris.target"
   ]
  },
  {
   "cell_type": "code",
   "execution_count": 101,
   "metadata": {
    "colab": {},
    "colab_type": "code",
    "id": "IgtiBcpg8s8y"
   },
   "outputs": [],
   "source": [
    "y = to_categorical(y,3)"
   ]
  },
  {
   "cell_type": "code",
   "execution_count": 102,
   "metadata": {
    "colab": {},
    "colab_type": "code",
    "id": "n3cj6nAs9AX3"
   },
   "outputs": [],
   "source": [
    "X_train, X_test, y_train, y_test = train_test_split(X, y, test_size=0.36)"
   ]
  },
  {
   "cell_type": "code",
   "execution_count": 103,
   "metadata": {
    "colab": {},
    "colab_type": "code",
    "id": "EH2M7vdV8zxa"
   },
   "outputs": [],
   "source": [
    "model = Sequential()\n",
    "model.add(Dense(units=8, input_dim=4, kernel_initializer='uniform', activation='relu'))\n",
    "model.add(Dense(units=3, activation='softmax'))"
   ]
  },
  {
   "cell_type": "code",
   "execution_count": 104,
   "metadata": {
    "colab": {},
    "colab_type": "code",
    "id": "L3en5FSiB2Lv"
   },
   "outputs": [],
   "source": [
    "model.compile(loss='categorical_crossentropy', optimizer='adam', metrics=['accuracy'])"
   ]
  },
  {
   "cell_type": "code",
   "execution_count": 105,
   "metadata": {
    "colab": {
     "base_uri": "https://localhost:8080/",
     "height": 233
    },
    "colab_type": "code",
    "id": "EOqscSDzCJlw",
    "outputId": "1290888b-de67-4f7f-a3b1-6009ae6658f8"
   },
   "outputs": [
    {
     "name": "stdout",
     "output_type": "stream",
     "text": [
      "Model: \"sequential_3\"\n",
      "_________________________________________________________________\n",
      "Layer (type)                 Output Shape              Param #   \n",
      "=================================================================\n",
      "dense_7 (Dense)              (None, 8)                 40        \n",
      "_________________________________________________________________\n",
      "dense_8 (Dense)              (None, 3)                 27        \n",
      "=================================================================\n",
      "Total params: 67\n",
      "Trainable params: 67\n",
      "Non-trainable params: 0\n",
      "_________________________________________________________________\n"
     ]
    }
   ],
   "source": [
    "model.summary()"
   ]
  },
  {
   "cell_type": "code",
   "execution_count": 106,
   "metadata": {
    "colab": {},
    "colab_type": "code",
    "id": "NxoDlwaHCt8D"
   },
   "outputs": [],
   "source": [
    "hist = model.fit(X_train, y_train, epochs=100, batch_size=10, verbose=0)"
   ]
  },
  {
   "cell_type": "code",
   "execution_count": 107,
   "metadata": {
    "colab": {
     "base_uri": "https://localhost:8080/",
     "height": 1000
    },
    "colab_type": "code",
    "id": "chHUky4lDqPK",
    "outputId": "41db8bbc-7078-436f-da21-d7884d5e590c"
   },
   "outputs": [
    {
     "data": {
      "text/plain": [
       "[0.3541666567325592,\n",
       " 0.3541666567325592,\n",
       " 0.3541666567325592,\n",
       " 0.3541666567325592,\n",
       " 0.3541666567325592,\n",
       " 0.3541666567325592,\n",
       " 0.3541666567325592,\n",
       " 0.3541666567325592,\n",
       " 0.3541666567325592,\n",
       " 0.3541666567325592,\n",
       " 0.3541666567325592,\n",
       " 0.3541666567325592,\n",
       " 0.3541666567325592,\n",
       " 0.3541666567325592,\n",
       " 0.3541666567325592,\n",
       " 0.3541666567325592,\n",
       " 0.40625,\n",
       " 0.4895833432674408,\n",
       " 0.5625,\n",
       " 0.6145833134651184,\n",
       " 0.625,\n",
       " 0.625,\n",
       " 0.6354166865348816,\n",
       " 0.65625,\n",
       " 0.6666666865348816,\n",
       " 0.6666666865348816,\n",
       " 0.6770833134651184,\n",
       " 0.6875,\n",
       " 0.6979166865348816,\n",
       " 0.6979166865348816,\n",
       " 0.6875,\n",
       " 0.6979166865348816,\n",
       " 0.6979166865348816,\n",
       " 0.7083333134651184,\n",
       " 0.7083333134651184,\n",
       " 0.6979166865348816,\n",
       " 0.71875,\n",
       " 0.75,\n",
       " 0.78125,\n",
       " 0.78125,\n",
       " 0.75,\n",
       " 0.8229166865348816,\n",
       " 0.8333333134651184,\n",
       " 0.8229166865348816,\n",
       " 0.8229166865348816,\n",
       " 0.84375,\n",
       " 0.8333333134651184,\n",
       " 0.8541666865348816,\n",
       " 0.875,\n",
       " 0.875,\n",
       " 0.875,\n",
       " 0.875,\n",
       " 0.875,\n",
       " 0.8958333134651184,\n",
       " 0.8958333134651184,\n",
       " 0.8958333134651184,\n",
       " 0.8958333134651184,\n",
       " 0.90625,\n",
       " 0.8958333134651184,\n",
       " 0.9166666865348816,\n",
       " 0.9270833134651184,\n",
       " 0.9270833134651184,\n",
       " 0.9270833134651184,\n",
       " 0.9166666865348816,\n",
       " 0.9166666865348816,\n",
       " 0.9166666865348816,\n",
       " 0.9479166865348816,\n",
       " 0.9583333134651184,\n",
       " 0.9583333134651184,\n",
       " 0.9583333134651184,\n",
       " 0.9583333134651184,\n",
       " 0.9583333134651184,\n",
       " 0.9583333134651184,\n",
       " 0.9583333134651184,\n",
       " 0.9583333134651184,\n",
       " 0.9583333134651184,\n",
       " 0.9583333134651184,\n",
       " 0.9583333134651184,\n",
       " 0.9583333134651184,\n",
       " 0.9583333134651184,\n",
       " 0.9583333134651184,\n",
       " 0.9583333134651184,\n",
       " 0.9583333134651184,\n",
       " 0.9583333134651184,\n",
       " 0.9583333134651184,\n",
       " 0.9583333134651184,\n",
       " 0.9583333134651184,\n",
       " 0.9583333134651184,\n",
       " 0.9583333134651184,\n",
       " 0.9583333134651184,\n",
       " 0.9583333134651184,\n",
       " 0.9583333134651184,\n",
       " 0.9583333134651184,\n",
       " 0.9583333134651184,\n",
       " 0.9583333134651184,\n",
       " 0.9583333134651184,\n",
       " 0.9583333134651184,\n",
       " 0.9583333134651184,\n",
       " 0.9583333134651184,\n",
       " 0.9583333134651184]"
      ]
     },
     "execution_count": 107,
     "metadata": {
      "tags": []
     },
     "output_type": "execute_result"
    }
   ],
   "source": [
    "hist.history['accuracy']"
   ]
  },
  {
   "cell_type": "code",
   "execution_count": 108,
   "metadata": {
    "colab": {
     "base_uri": "https://localhost:8080/",
     "height": 1000
    },
    "colab_type": "code",
    "id": "bwMxlZQfESyb",
    "outputId": "e8ecc62e-5176-4fe1-c3d0-4650716bfa78"
   },
   "outputs": [
    {
     "data": {
      "text/plain": [
       "[1.0878984928131104,\n",
       " 1.074894666671753,\n",
       " 1.0645617246627808,\n",
       " 1.0532187223434448,\n",
       " 1.0421210527420044,\n",
       " 1.0307612419128418,\n",
       " 1.0191951990127563,\n",
       " 1.0071027278900146,\n",
       " 0.9957591891288757,\n",
       " 0.983468234539032,\n",
       " 0.9706471562385559,\n",
       " 0.9582603573799133,\n",
       " 0.9463629126548767,\n",
       " 0.9326499104499817,\n",
       " 0.9200358390808105,\n",
       " 0.907791793346405,\n",
       " 0.8950979709625244,\n",
       " 0.8817993998527527,\n",
       " 0.8699331879615784,\n",
       " 0.857433557510376,\n",
       " 0.8453108668327332,\n",
       " 0.8330551981925964,\n",
       " 0.8206327557563782,\n",
       " 0.8086990714073181,\n",
       " 0.7958672642707825,\n",
       " 0.783636748790741,\n",
       " 0.7722882628440857,\n",
       " 0.7598004937171936,\n",
       " 0.7486869692802429,\n",
       " 0.7359452247619629,\n",
       " 0.7243767380714417,\n",
       " 0.7130706906318665,\n",
       " 0.7019808888435364,\n",
       " 0.6906635165214539,\n",
       " 0.6799872517585754,\n",
       " 0.6683108806610107,\n",
       " 0.6577998995780945,\n",
       " 0.647913932800293,\n",
       " 0.6376399397850037,\n",
       " 0.627780020236969,\n",
       " 0.6182465553283691,\n",
       " 0.6113223433494568,\n",
       " 0.6005189418792725,\n",
       " 0.5907059907913208,\n",
       " 0.5818528532981873,\n",
       " 0.5739699602127075,\n",
       " 0.5662707686424255,\n",
       " 0.5570541620254517,\n",
       " 0.5495580434799194,\n",
       " 0.542496919631958,\n",
       " 0.5357447266578674,\n",
       " 0.5277402997016907,\n",
       " 0.5219762325286865,\n",
       " 0.5143542289733887,\n",
       " 0.5083286762237549,\n",
       " 0.5015425682067871,\n",
       " 0.4956022799015045,\n",
       " 0.4897197484970093,\n",
       " 0.484806090593338,\n",
       " 0.47884026169776917,\n",
       " 0.47321251034736633,\n",
       " 0.4688684046268463,\n",
       " 0.46278145909309387,\n",
       " 0.45801088213920593,\n",
       " 0.453247994184494,\n",
       " 0.44873592257499695,\n",
       " 0.4437783658504486,\n",
       " 0.4396913945674896,\n",
       " 0.4351266622543335,\n",
       " 0.4311915934085846,\n",
       " 0.42660608887672424,\n",
       " 0.42329466342926025,\n",
       " 0.41961297392845154,\n",
       " 0.41507473587989807,\n",
       " 0.41194406151771545,\n",
       " 0.40784716606140137,\n",
       " 0.4040699005126953,\n",
       " 0.40128955245018005,\n",
       " 0.39776289463043213,\n",
       " 0.39398059248924255,\n",
       " 0.3909476101398468,\n",
       " 0.3875816762447357,\n",
       " 0.384859561920166,\n",
       " 0.38166534900665283,\n",
       " 0.3789390027523041,\n",
       " 0.37546002864837646,\n",
       " 0.3724687397480011,\n",
       " 0.370808869600296,\n",
       " 0.36658596992492676,\n",
       " 0.3637765347957611,\n",
       " 0.3627612590789795,\n",
       " 0.3587667644023895,\n",
       " 0.35600313544273376,\n",
       " 0.35338354110717773,\n",
       " 0.3514513671398163,\n",
       " 0.34798315167427063,\n",
       " 0.345926970243454,\n",
       " 0.3427198827266693,\n",
       " 0.34044817090034485,\n",
       " 0.3383406102657318]"
      ]
     },
     "execution_count": 108,
     "metadata": {
      "tags": []
     },
     "output_type": "execute_result"
    }
   ],
   "source": [
    "hist.history['loss']"
   ]
  },
  {
   "cell_type": "code",
   "execution_count": 109,
   "metadata": {
    "colab": {
     "base_uri": "https://localhost:8080/",
     "height": 71
    },
    "colab_type": "code",
    "id": "yfYdKVRKHSr-",
    "outputId": "a420f57d-be76-4612-c23b-4be445d4f7e4"
   },
   "outputs": [
    {
     "name": "stdout",
     "output_type": "stream",
     "text": [
      "2/2 [==============================] - 0s 1ms/step - loss: 0.3010 - accuracy: 0.9815\n",
      "손실값 : 0.30100131034851074\n",
      "정확도 : 0.9814814925193787\n"
     ]
    }
   ],
   "source": [
    "loss, acc = model.evaluate(X_test, y_test)\n",
    "\n",
    "print('손실값 :',loss)\n",
    "print('정확도 :',acc)"
   ]
  },
  {
   "cell_type": "code",
   "execution_count": 110,
   "metadata": {
    "colab": {
     "base_uri": "https://localhost:8080/",
     "height": 989
    },
    "colab_type": "code",
    "id": "vxBhIN9uHXYh",
    "outputId": "3dfc6e90-6d9c-4e41-b703-6efcc0f4461b"
   },
   "outputs": [
    {
     "name": "stdout",
     "output_type": "stream",
     "text": [
      "[[9.2926621e-01 6.9655098e-02 1.0785887e-03]\n",
      " [3.9394550e-02 6.1366349e-01 3.4694201e-01]\n",
      " [9.1365409e-01 8.4637240e-02 1.7087057e-03]\n",
      " [9.0204304e-01 9.5980711e-02 1.9762488e-03]\n",
      " [9.3438587e-04 2.0537974e-01 7.9368585e-01]\n",
      " [9.1503948e-01 8.3527870e-02 1.4326501e-03]\n",
      " [9.2081684e-01 7.7733196e-02 1.4499329e-03]\n",
      " [7.1427315e-02 6.5261686e-01 2.7595574e-01]\n",
      " [3.8450133e-02 5.9105033e-01 3.7049958e-01]\n",
      " [2.0632206e-03 3.0232984e-01 6.9560695e-01]\n",
      " [9.2999071e-01 6.8959415e-02 1.0498797e-03]\n",
      " [6.6631190e-02 6.5754867e-01 2.7582020e-01]\n",
      " [6.2052656e-02 6.4672238e-01 2.9122502e-01]\n",
      " [1.9606031e-02 5.6753296e-01 4.1286105e-01]\n",
      " [2.3477981e-02 5.5861598e-01 4.1790611e-01]\n",
      " [9.3161613e-01 6.7405529e-02 9.7825972e-04]\n",
      " [1.4355652e-01 6.6993797e-01 1.8650553e-01]\n",
      " [1.0387835e-03 2.3565471e-01 7.6330650e-01]\n",
      " [2.9276287e-02 5.8973414e-01 3.8098967e-01]\n",
      " [3.8718567e-03 3.7106472e-01 6.2506336e-01]\n",
      " [9.2009073e-01 7.8424186e-02 1.4850700e-03]\n",
      " [9.3305868e-01 6.6007785e-02 9.3357620e-04]\n",
      " [7.8814733e-04 2.1019204e-01 7.8901982e-01]\n",
      " [7.5885851e-04 2.2430216e-01 7.7493900e-01]\n",
      " [9.3264943e-01 6.6402026e-02 9.4860257e-04]\n",
      " [3.0849585e-02 5.6241381e-01 4.0673664e-01]\n",
      " [9.1531563e-01 8.2954980e-02 1.7293259e-03]\n",
      " [2.3446409e-02 5.3998661e-01 4.3656695e-01]\n",
      " [6.6461399e-02 6.3459116e-01 2.9894739e-01]\n",
      " [5.5449698e-03 3.8777328e-01 6.0668176e-01]\n",
      " [3.7249955e-03 3.4517780e-01 6.5109718e-01]\n",
      " [9.0912557e-01 8.8793360e-02 2.0810706e-03]\n",
      " [2.0414598e-02 5.3064376e-01 4.4894168e-01]\n",
      " [4.1513011e-02 6.4691436e-01 3.1157258e-01]\n",
      " [2.5234373e-02 5.9498215e-01 3.7978342e-01]\n",
      " [7.1659684e-04 2.4170169e-01 7.5758165e-01]\n",
      " [1.9056014e-03 2.9340029e-01 7.0469415e-01]\n",
      " [9.2560673e-01 7.3162153e-02 1.2310671e-03]\n",
      " [3.9772992e-04 1.7210932e-01 8.2749295e-01]\n",
      " [9.8657366e-03 4.8555675e-01 5.0457752e-01]\n",
      " [3.4397189e-03 3.5772100e-01 6.3883924e-01]\n",
      " [3.9013766e-02 5.7910192e-01 3.8188431e-01]\n",
      " [9.3459523e-01 6.4526349e-02 8.7848515e-04]\n",
      " [9.3784374e-01 6.1387550e-02 7.6878170e-04]\n",
      " [2.3845197e-03 3.1060556e-01 6.8700993e-01]\n",
      " [1.8158513e-03 2.5087774e-01 7.4730635e-01]\n",
      " [9.2054570e-01 7.7991292e-02 1.4629930e-03]\n",
      " [4.1978499e-03 3.3515483e-01 6.6064733e-01]\n",
      " [9.3887967e-01 6.0384717e-02 7.3569320e-04]\n",
      " [9.0526021e-01 9.3086921e-02 1.6528959e-03]\n",
      " [9.0735666e-03 4.4639587e-01 5.4453057e-01]\n",
      " [9.1089463e-01 8.7276481e-02 1.8289570e-03]\n",
      " [9.4006437e-01 5.9236664e-02 6.9895264e-04]\n",
      " [9.3155313e-01 6.7457318e-02 9.8959007e-04]]\n"
     ]
    }
   ],
   "source": [
    "y_pred = model.predict(X_test)\n",
    "\n",
    "print(y_pred)"
   ]
  },
  {
   "cell_type": "code",
   "execution_count": 111,
   "metadata": {
    "colab": {
     "base_uri": "https://localhost:8080/",
     "height": 53
    },
    "colab_type": "code",
    "id": "4s6eT0ZCIYPz",
    "outputId": "91ee2afa-6c4b-4587-89fb-9c1a66ff0340"
   },
   "outputs": [
    {
     "name": "stdout",
     "output_type": "stream",
     "text": [
      "[0 1 0 0 2 0 0 1 1 2 0 1 1 1 1 0 1 2 1 2 0 0 2 2 0 1 0 1 1 2 2 0 1 1 1 2 2\n",
      " 0 2 2 2 1 0 0 2 2 0 2 0 0 2 0 0 0]\n"
     ]
    }
   ],
   "source": [
    "y_pred_class = model.predict_classes(X_test)\n",
    "\n",
    "print(y_pred_class)"
   ]
  },
  {
   "cell_type": "markdown",
   "metadata": {
    "colab_type": "text",
    "id": "IeHI0s1iXuN5"
   },
   "source": [
    "## MNIST 예제"
   ]
  },
  {
   "cell_type": "code",
   "execution_count": 112,
   "metadata": {
    "colab": {},
    "colab_type": "code",
    "id": "AYDDrGOIJd45"
   },
   "outputs": [],
   "source": [
    "mnist = fetch_openml('mnist_784', version=1)"
   ]
  },
  {
   "cell_type": "code",
   "execution_count": 113,
   "metadata": {
    "colab": {},
    "colab_type": "code",
    "id": "QzuUANg8MMjP"
   },
   "outputs": [],
   "source": [
    "X = mnist.data\n",
    "y = mnist.target"
   ]
  },
  {
   "cell_type": "code",
   "execution_count": 114,
   "metadata": {
    "colab": {},
    "colab_type": "code",
    "id": "cLHey2IJMYXY"
   },
   "outputs": [],
   "source": [
    "y = y.astype(np.int)"
   ]
  },
  {
   "cell_type": "code",
   "execution_count": 115,
   "metadata": {
    "colab": {
     "base_uri": "https://localhost:8080/",
     "height": 177
    },
    "colab_type": "code",
    "id": "4Z4At7QMPpGi",
    "outputId": "03ec35b2-77ea-4a49-e3c5-a873c1ccf68c"
   },
   "outputs": [
    {
     "data": {
      "image/png": "[encoded data removed]",
      "text/plain": [
       "<Figure size 144x144 with 1 Axes>"
      ]
     },
     "metadata": {
      "needs_background": "light",
      "tags": []
     },
     "output_type": "display_data"
    },
    {
     "name": "stdout",
     "output_type": "stream",
     "text": [
      "label : 1\n"
     ]
    }
   ],
   "source": [
    "n = 711\n",
    "\n",
    "px = np.array(X[n], dtype='uint8').reshape((28,28))\n",
    "\n",
    "plt.figure(figsize=(2,2))\n",
    "plt.imshow(px, cmap='gray')\n",
    "plt.show()\n",
    "\n",
    "print('label :',y[n])"
   ]
  },
  {
   "cell_type": "code",
   "execution_count": 116,
   "metadata": {
    "colab": {},
    "colab_type": "code",
    "id": "enxjE9LdQtMn"
   },
   "outputs": [],
   "source": [
    "y = to_categorical(y,10)"
   ]
  },
  {
   "cell_type": "code",
   "execution_count": 117,
   "metadata": {
    "colab": {},
    "colab_type": "code",
    "id": "5r0FlQ-5QzEm"
   },
   "outputs": [],
   "source": [
    "X_train, X_test, y_train, y_test = train_test_split(X, y, test_size=0.3)"
   ]
  },
  {
   "cell_type": "code",
   "execution_count": 118,
   "metadata": {
    "colab": {},
    "colab_type": "code",
    "id": "jUySD-VpPyve"
   },
   "outputs": [],
   "source": [
    "model = Sequential()\n",
    "model.add(Dense(units=20, input_dim=28*28, activation='relu'))\n",
    "model.add(Dense(units=15, activation='relu'))\n",
    "model.add(Dense(units=10, activation='softmax'))"
   ]
  },
  {
   "cell_type": "code",
   "execution_count": 119,
   "metadata": {
    "colab": {},
    "colab_type": "code",
    "id": "bDDpeA73RQiZ"
   },
   "outputs": [],
   "source": [
    "model.compile(loss='categorical_crossentropy', optimizer=Adam(lr=0.001), metrics=['accuracy'])\n",
    "    # Adam(lr=0.001) 대신 그냥 쉽게 'adam'가능"
   ]
  },
  {
   "cell_type": "code",
   "execution_count": 120,
   "metadata": {
    "colab": {
     "base_uri": "https://localhost:8080/",
     "height": 269
    },
    "colab_type": "code",
    "id": "QsDvIn1NRYw_",
    "outputId": "c2137685-9ba7-49e0-c27a-75a26b8e0911"
   },
   "outputs": [
    {
     "name": "stdout",
     "output_type": "stream",
     "text": [
      "Model: \"sequential_4\"\n",
      "_________________________________________________________________\n",
      "Layer (type)                 Output Shape              Param #   \n",
      "=================================================================\n",
      "dense_9 (Dense)              (None, 20)                15700     \n",
      "_________________________________________________________________\n",
      "dense_10 (Dense)             (None, 15)                315       \n",
      "_________________________________________________________________\n",
      "dense_11 (Dense)             (None, 10)                160       \n",
      "=================================================================\n",
      "Total params: 16,175\n",
      "Trainable params: 16,175\n",
      "Non-trainable params: 0\n",
      "_________________________________________________________________\n"
     ]
    }
   ],
   "source": [
    "model.summary()"
   ]
  },
  {
   "cell_type": "code",
   "execution_count": 121,
   "metadata": {
    "colab": {},
    "colab_type": "code",
    "id": "ImFfB2bJRb72"
   },
   "outputs": [],
   "source": [
    "hstr = model.fit(X_train, y_train, epochs=10, batch_size=100, verbose=0)"
   ]
  },
  {
   "cell_type": "code",
   "execution_count": 122,
   "metadata": {
    "colab": {
     "base_uri": "https://localhost:8080/",
     "height": 197
    },
    "colab_type": "code",
    "id": "V_6yJvmRR3so",
    "outputId": "90c0a4b7-2155-4a17-a850-48d4fb02a703"
   },
   "outputs": [
    {
     "data": {
      "text/plain": [
       "[3.1215696334838867,\n",
       " 1.8245996236801147,\n",
       " 1.5367037057876587,\n",
       " 1.2768032550811768,\n",
       " 1.0015228986740112,\n",
       " 0.8325529098510742,\n",
       " 0.7261875867843628,\n",
       " 0.6415007710456848,\n",
       " 0.5713652968406677,\n",
       " 0.5326882600784302]"
      ]
     },
     "execution_count": 122,
     "metadata": {
      "tags": []
     },
     "output_type": "execute_result"
    }
   ],
   "source": [
    "hstr.history['loss']"
   ]
  },
  {
   "cell_type": "code",
   "execution_count": 123,
   "metadata": {
    "colab": {
     "base_uri": "https://localhost:8080/",
     "height": 265
    },
    "colab_type": "code",
    "id": "dElrFiE6Seb3",
    "outputId": "143edbf0-4d8b-45f1-d4e4-22e97b1b11d7"
   },
   "outputs": [
    {
     "data": {
      "image/png": "[encoded data removed]",
      "text/plain": [
       "<Figure size 432x288 with 1 Axes>"
      ]
     },
     "metadata": {
      "needs_background": "light",
      "tags": []
     },
     "output_type": "display_data"
    }
   ],
   "source": [
    "plt.plot(hstr.history['loss'], color ='red')\n",
    "plt.show()"
   ]
  },
  {
   "cell_type": "code",
   "execution_count": 124,
   "metadata": {
    "colab": {
     "base_uri": "https://localhost:8080/",
     "height": 197
    },
    "colab_type": "code",
    "id": "qSPX1rTaSZ5J",
    "outputId": "448c15a2-bf7f-477d-f544-2f1a8956455d"
   },
   "outputs": [
    {
     "data": {
      "text/plain": [
       "[0.17646938562393188,\n",
       " 0.3032653033733368,\n",
       " 0.39902040362358093,\n",
       " 0.4948367476463318,\n",
       " 0.619020402431488,\n",
       " 0.6801020503044128,\n",
       " 0.7361632585525513,\n",
       " 0.778387725353241,\n",
       " 0.8012244701385498,\n",
       " 0.8089795708656311]"
      ]
     },
     "execution_count": 124,
     "metadata": {
      "tags": []
     },
     "output_type": "execute_result"
    }
   ],
   "source": [
    "hstr.history['accuracy']"
   ]
  },
  {
   "cell_type": "code",
   "execution_count": 125,
   "metadata": {
    "colab": {
     "base_uri": "https://localhost:8080/",
     "height": 265
    },
    "colab_type": "code",
    "id": "U6ox5ZRxSlxj",
    "outputId": "83a25539-e5cc-454b-ed8c-81acab73ecf7"
   },
   "outputs": [
    {
     "data": {
      "image/png": "[encoded data removed]",
      "text/plain": [
       "<Figure size 432x288 with 1 Axes>"
      ]
     },
     "metadata": {
      "needs_background": "light",
      "tags": []
     },
     "output_type": "display_data"
    }
   ],
   "source": [
    "plt.plot(hstr.history['accuracy'], color ='red')\n",
    "plt.show()"
   ]
  },
  {
   "cell_type": "code",
   "execution_count": 126,
   "metadata": {
    "colab": {
     "base_uri": "https://localhost:8080/",
     "height": 71
    },
    "colab_type": "code",
    "id": "KKjTdqQWSoY7",
    "outputId": "0216b16c-077f-48bf-d62d-8a392e4b7cec"
   },
   "outputs": [
    {
     "name": "stdout",
     "output_type": "stream",
     "text": [
      "657/657 [==============================] - 1s 777us/step - loss: 0.5902 - accuracy: 0.7903\n",
      "손실값 : 0.5901920795440674\n",
      "정확도 : 0.7902857065200806\n"
     ]
    }
   ],
   "source": [
    "loss, acc = model.evaluate(X_test, y_test)\n",
    "\n",
    "print('손실값 :',loss)\n",
    "print('정확도 :',acc)"
   ]
  },
  {
   "cell_type": "code",
   "execution_count": 127,
   "metadata": {
    "colab": {
     "base_uri": "https://localhost:8080/",
     "height": 251
    },
    "colab_type": "code",
    "id": "p3rjl_V6WJQj",
    "outputId": "20708486-b25f-4f9c-818a-8f9f72825d15"
   },
   "outputs": [
    {
     "name": "stdout",
     "output_type": "stream",
     "text": [
      "[[1.0528303e-06 1.2835343e-06 6.0842993e-08 ... 9.9999237e-01\n",
      "  3.3313398e-12 2.0784007e-06]\n",
      " [3.5214098e-34 2.4160352e-07 5.2997200e-11 ... 0.0000000e+00\n",
      "  4.7488138e-05 8.9509495e-06]\n",
      " [1.2759363e-02 2.3996491e-04 3.2694649e-02 ... 1.1457183e-05\n",
      "  2.2725260e-05 3.8014064e-10]\n",
      " ...\n",
      " [1.2588561e-01 1.3668247e-02 2.0764224e-01 ... 1.4651556e-02\n",
      "  4.6183467e-01 2.8533962e-02]\n",
      " [5.0036985e-01 2.8497626e-03 4.3161294e-01 ... 2.7287251e-03\n",
      "  2.4644796e-02 3.2288439e-03]\n",
      " [4.4687877e-05 2.6080705e-05 5.3058725e-06 ... 9.9980336e-01\n",
      "  2.7788962e-09 4.2801712e-05]]\n"
     ]
    }
   ],
   "source": [
    "y_pred = model.predict(X_test)\n",
    "\n",
    "print(y_pred)"
   ]
  },
  {
   "cell_type": "code",
   "execution_count": 128,
   "metadata": {
    "colab": {
     "base_uri": "https://localhost:8080/",
     "height": 35
    },
    "colab_type": "code",
    "id": "XcmYodwiWtsb",
    "outputId": "992569f3-c7fb-4eff-d28a-71efb3fa7bac"
   },
   "outputs": [
    {
     "name": "stdout",
     "output_type": "stream",
     "text": [
      "[7 5 6 ... 8 0 7]\n"
     ]
    }
   ],
   "source": [
    "y_pred_class = model.predict_classes(X_test)\n",
    "\n",
    "print(y_pred_class)"
   ]
  },
  {
   "cell_type": "code",
   "execution_count": 129,
   "metadata": {
    "colab": {
     "base_uri": "https://localhost:8080/",
     "height": 35
    },
    "colab_type": "code",
    "id": "Rb89ow1CWvsC",
    "outputId": "76948776-2f95-4e67-f1bc-820f46ce237b"
   },
   "outputs": [
    {
     "name": "stdout",
     "output_type": "stream",
     "text": [
      "[7 5 6 ... 8 0 7]\n"
     ]
    }
   ],
   "source": [
    "y_test_class = np.argmax(y_test, axis=1) # 가장큰 값, 즉 0이 아닌 1인 값의 위치를 출력\n",
    "\n",
    "print(y_test_class)"
   ]
  },
  {
   "cell_type": "code",
   "execution_count": 130,
   "metadata": {
    "colab": {
     "base_uri": "https://localhost:8080/",
     "height": 197
    },
    "colab_type": "code",
    "id": "uimfmE0qXALZ",
    "outputId": "10c1f32d-0ce0-43a8-f29f-90340a1fde93"
   },
   "outputs": [
    {
     "data": {
      "text/plain": [
       "array([[1943,    0,   81,    4,    2,    2,   11,    9,   38,    0],\n",
       "       [  12, 2249,   15,    4,    4,    8,    2,   12,   29,    1],\n",
       "       [1654,   16,  205,   30,   10,    0,   23,   33,  105,    0],\n",
       "       [  91,    6,   64, 1721,    1,   87,    2,   35,   54,    8],\n",
       "       [  13,   11,   42,    0, 1802,    9,   33,   78,   45,   33],\n",
       "       [  27,    0,   27,  187,   13, 1552,   13,    6,   92,    4],\n",
       "       [  22,    4,  122,    1,   13,   10, 1902,    0,   23,    1],\n",
       "       [  30,   13,    9,    0,   21,    4,    1, 2079,    8,   23],\n",
       "       [  64,   34,   47,   16,   18,   45,   13,    9, 1841,   13],\n",
       "       [  20,    4,    5,   20,   98,   26,    2,  465,  114, 1302]])"
      ]
     },
     "execution_count": 130,
     "metadata": {
      "tags": []
     },
     "output_type": "execute_result"
    }
   ],
   "source": [
    "metrics.confusion_matrix(y_test_class, y_pred_class)"
   ]
  }
 ],
 "metadata": {
  "colab": {
   "name": "keras_DNN.ipynb",
   "provenance": []
  },
  "kernelspec": {
   "display_name": "Python 3",
   "language": "python",
   "name": "python3"
  },
  "language_info": {
   "codemirror_mode": {
    "name": "ipython",
    "version": 3
   },
   "file_extension": ".py",
   "mimetype": "text/x-python",
   "name": "python",
   "nbconvert_exporter": "python",
   "pygments_lexer": "ipython3",
   "version": "3.7.7"
  },
  "toc": {
   "base_numbering": 1,
   "nav_menu": {},
   "number_sections": true,
   "sideBar": true,
   "skip_h1_title": false,
   "title_cell": "Table of Contents",
   "title_sidebar": "Contents",
   "toc_cell": false,
   "toc_position": {},
   "toc_section_display": true,
   "toc_window_display": false
  },
  "varInspector": {
   "cols": {
    "lenName": 16,
    "lenType": 16,
    "lenVar": 40
   },
   "kernels_config": {
    "python": {
     "delete_cmd_postfix": "",
     "delete_cmd_prefix": "del ",
     "library": "var_list.py",
     "varRefreshCmd": "print(var_dic_list())"
    },
    "r": {
     "delete_cmd_postfix": ") ",
     "delete_cmd_prefix": "rm(",
     "library": "var_list.r",
     "varRefreshCmd": "cat(var_dic_list()) "
    }
   },
   "types_to_exclude": [
    "module",
    "function",
    "builtin_function_or_method",
    "instance",
    "_Feature"
   ],
   "window_display": false
  }
 },
 "nbformat": 4,
 "nbformat_minor": 1
}
