{
 "cells": [
  {
   "cell_type": "markdown",
   "metadata": {},
   "source": [
    "# Regularization\n",
    "\n",
    "- Ridge Regression : L2 regularization 제곱의 합\n",
    "\n",
    "\n",
    "- Lasso Regression : L1 regularization 절댓값의 합\n",
    "\n",
    "\n",
    "- Elastic Net Regression : L1 + L2 regularization\n",
    "\n",
    "\n",
    "    r : 혼합 비율\n",
    "    0이면 L2와 동일, 1이면 L1과 동일\n",
    "\n",
    "\n",
    "# 모형선택\n",
    "\n",
    "규제가 없는 기본 선형 회귀를 수행후 과대적합이 확실시 되면 -> Ridge\n",
    "\n",
    "전체 특성들 중 일부만 의미가 있다고 유추할 수 있거나 관찰 -> Lasso 또는 Elastic Net\n",
    "\n",
    "특성들 간의 관련성(상관 계수)이 높음 -> Elastic Net 적용"
   ]
  },
  {
   "cell_type": "code",
   "execution_count": 1,
   "metadata": {},
   "outputs": [],
   "source": [
    "from sklearn import datasets\n",
    "from sklearn import model_selection\n",
    "from sklearn import metrics\n",
    "from sklearn import linear_model\n",
    "import pandas as pd\n",
    "import numpy as np\n",
    "import matplotlib.pyplot as plt"
   ]
  },
  {
   "cell_type": "code",
   "execution_count": 2,
   "metadata": {},
   "outputs": [],
   "source": [
    "diab = datasets.load_diabetes()\n",
    "X_train, X_test, y_train, y_test = \\\n",
    "model_selection.train_test_split(diab.data, diab.target,\\\n",
    "                                 test_size=0.3, random_state=78)"
   ]
  },
  {
   "cell_type": "code",
   "execution_count": 3,
   "metadata": {},
   "outputs": [],
   "source": [
    "l1_model = linear_model.Lasso(alpha=0.01).fit(X_train,y_train)\n",
    "l2_model = linear_model.Ridge(alpha=0.01).fit(X_train,y_train)\n",
    "    # alpha : regularization parameter\n",
    "    # alpha=0 이면 일반 회귀분석"
   ]
  },
  {
   "cell_type": "code",
   "execution_count": 4,
   "metadata": {},
   "outputs": [],
   "source": [
    "l1_y_pred = l1_model.predict(X_test)\n",
    "l1_r2 = metrics.r2_score(y_test, l1_y_pred)\n",
    "\n",
    "l2_y_pred = l2_model.predict(X_test)\n",
    "l2_r2 = metrics.r2_score(y_test, l2_y_pred)"
   ]
  },
  {
   "cell_type": "code",
   "execution_count": 5,
   "metadata": {},
   "outputs": [
    {
     "name": "stdout",
     "output_type": "stream",
     "text": [
      "0.4923705615188325\n",
      "0.4963113728068087\n"
     ]
    }
   ],
   "source": [
    "# 수정 R^2\n",
    "n = X_train.shape[0] \n",
    "k = X_train.shape[1]\n",
    "\n",
    "l1_adj_r2 = 1- ((1-l1_r2)*(n-1)/(n-k-1))\n",
    "l2_adj_r2 = 1- ((1-l2_r2)*(n-1)/(n-k-1))\n",
    "\n",
    "print(l1_adj_r2)\n",
    "print(l2_adj_r2)"
   ]
  },
  {
   "cell_type": "code",
   "execution_count": 6,
   "metadata": {},
   "outputs": [
    {
     "name": "stdout",
     "output_type": "stream",
     "text": [
      "s5     825.933\n",
      "bmi    451.930\n",
      "s2     400.500\n",
      "bp     367.985\n",
      "s6      50.191\n",
      "s4       0.000\n",
      "s3      -0.000\n",
      "age    -27.913\n",
      "sex   -177.585\n",
      "s1    -643.630\n",
      "dtype: float64\n",
      "\n",
      "s5     735.286\n",
      "bmi    450.733\n",
      "bp     367.440\n",
      "s2     239.094\n",
      "s6      60.548\n",
      "s4     -23.619\n",
      "age    -29.339\n",
      "s3     -95.215\n",
      "sex   -179.510\n",
      "s1    -436.699\n",
      "dtype: float64\n"
     ]
    }
   ],
   "source": [
    "l1_coef = pd.Series(np.round(l1_model.coef_,3), index=diab.feature_names)\\\n",
    ".sort_values(ascending=False)\n",
    "l2_coef = pd.Series(np.round(l2_model.coef_,3), index=diab.feature_names)\\\n",
    ".sort_values(ascending=False)\n",
    "\n",
    "print(l1_coef)\n",
    "print('')\n",
    "print(l2_coef)"
   ]
  },
  {
   "cell_type": "code",
   "execution_count": 8,
   "metadata": {},
   "outputs": [
    {
     "data": {
      "image/png": "[encoded data removed]",
      "text/plain": [
       "<Figure size 432x432 with 1 Axes>"
      ]
     },
     "metadata": {
      "needs_background": "light"
     },
     "output_type": "display_data"
    }
   ],
   "source": [
    "plt.figure(figsize=(6,6))\n",
    "plt.scatter(y_test, l1_y_pred, color='red')\n",
    "plt.show()"
   ]
  },
  {
   "cell_type": "code",
   "execution_count": 18,
   "metadata": {},
   "outputs": [
    {
     "name": "stdout",
     "output_type": "stream",
     "text": [
      "           alpha=0  alpha=0.1  alpha=1  alpha=10  alpha=100\n",
      "AGE        -10.012      1.307   29.466    19.813      2.897\n",
      "SEX       -239.819   -207.195  -83.155    -0.918      0.585\n",
      "BMI        519.840    489.691  306.352    75.416      9.241\n",
      "BP         324.390    301.769  201.629    55.025      6.931\n",
      "S1        -792.184    -83.466    5.909    19.925      3.231\n",
      "S2         476.746    -70.828  -29.516    13.949      2.617\n",
      "S3         101.045   -188.680 -152.040   -47.554     -6.175\n",
      "S4         177.064    115.713  117.312    48.259      6.678\n",
      "S5         751.279    443.814  262.945    70.144      8.877\n",
      "S6          67.625     86.749  111.879    44.214      5.956\n",
      "INTERCEPT  152.133    152.133  152.133   152.133    152.133\n"
     ]
    }
   ],
   "source": [
    "# Ridge (L2)\n",
    "\n",
    "alphas = [0, 0.1, 1, 10, 100]\n",
    "df = pd.DataFrame()\n",
    "\n",
    "for cnt in alphas:\n",
    "    model = linear_model.Ridge(alpha=cnt).fit(diab.data, diab.target)\n",
    "    coef = pd.Series(np.hstack((np.round(model.coef_, 3), np.round(model.intercept_, 3))),\n",
    "                     index=[s.upper() for s in diab.feature_names]+['INTERCEPT'])\n",
    "    df['alpha='+str(cnt)] = coef\n",
    "\n",
    "print(df)"
   ]
  },
  {
   "cell_type": "code",
   "execution_count": 19,
   "metadata": {},
   "outputs": [
    {
     "name": "stdout",
     "output_type": "stream",
     "text": [
      "           alpha=0  alpha=0.1  alpha=1  alpha=10  alpha=100\n",
      "AGE        -10.012     -0.000    0.000     0.000      0.000\n",
      "SEX       -239.819   -155.363   -0.000     0.000      0.000\n",
      "BMI        519.840    517.182  367.702     0.000      0.000\n",
      "BP         324.390    275.082    6.302     0.000      0.000\n",
      "S1        -792.184    -52.540    0.000     0.000      0.000\n",
      "S2         476.746     -0.000    0.000     0.000      0.000\n",
      "S3         101.045   -210.160   -0.000    -0.000     -0.000\n",
      "S4         177.064      0.000    0.000     0.000      0.000\n",
      "S5         751.279    483.914  307.606     0.000      0.000\n",
      "S6          67.625     33.673    0.000     0.000      0.000\n",
      "INTERCEPT  152.133    152.133  152.133   152.133    152.133\n"
     ]
    },
    {
     "name": "stderr",
     "output_type": "stream",
     "text": [
      "C:\\Users\\User\\anaconda3\\lib\\site-packages\\ipykernel_launcher.py:7: UserWarning: With alpha=0, this algorithm does not converge well. You are advised to use the LinearRegression estimator\n",
      "  import sys\n",
      "C:\\Users\\User\\anaconda3\\lib\\site-packages\\sklearn\\linear_model\\_coordinate_descent.py:476: UserWarning: Coordinate descent with no regularization may lead to unexpected results and is discouraged.\n",
      "  positive)\n",
      "C:\\Users\\User\\anaconda3\\lib\\site-packages\\sklearn\\linear_model\\_coordinate_descent.py:476: ConvergenceWarning: Objective did not converge. You might want to increase the number of iterations. Duality gap: 631991.5781277429, tolerance: 262.1009124434389\n",
      "  positive)\n"
     ]
    }
   ],
   "source": [
    "# Lasso (L1)\n",
    "\n",
    "alphas = [0, 0.1, 1, 10, 100]\n",
    "df = pd.DataFrame()\n",
    "\n",
    "for cnt in alphas:\n",
    "    model = linear_model.Lasso(alpha=cnt).fit(diab.data, diab.target)\n",
    "    coef = pd.Series(np.hstack((np.round(model.coef_, 3), np.round(model.intercept_, 3))),\n",
    "                     index=[s.upper() for s in diab.feature_names]+['INTERCEPT'])\n",
    "    df['alpha='+str(cnt)] = coef\n",
    "\n",
    "print(df)"
   ]
  },
  {
   "cell_type": "code",
   "execution_count": 26,
   "metadata": {},
   "outputs": [
    {
     "data": {
      "image/png": "[encoded data removed]",
      "text/plain": [
       "<Figure size 432x432 with 1 Axes>"
      ]
     },
     "metadata": {
      "needs_background": "light"
     },
     "output_type": "display_data"
    }
   ],
   "source": [
    "#Elastic Net Regression\n",
    "elastic_model = linear_model.ElasticNet(alpha=0.01, l1_ratio=0.5).fit(X_train,y_train)\n",
    "    # l1_ratio : 혼합 비율\n",
    "\n",
    "elastic_y_pred = elastic_model.predict(X_test)\n",
    "\n",
    "plt.figure(figsize=(6,6))\n",
    "plt.scatter(y_test, elastic_y_pred, color='red')\n",
    "plt.show()"
   ]
  }
 ],
 "metadata": {
  "kernelspec": {
   "display_name": "Python 3",
   "language": "python",
   "name": "python3"
  },
  "language_info": {
   "codemirror_mode": {
    "name": "ipython",
    "version": 3
   },
   "file_extension": ".py",
   "mimetype": "text/x-python",
   "name": "python",
   "nbconvert_exporter": "python",
   "pygments_lexer": "ipython3",
   "version": "3.7.7"
  }
 },
 "nbformat": 4,
 "nbformat_minor": 4
}
