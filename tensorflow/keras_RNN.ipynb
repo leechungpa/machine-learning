{
  "nbformat": 4,
  "nbformat_minor": 0,
  "metadata": {
    "colab": {
      "name": "keras_RNN.ipynb",
      "provenance": []
    },
    "kernelspec": {
      "name": "python3",
      "display_name": "Python 3"
    }
  },
  "cells": [
    {
      "cell_type": "code",
      "metadata": {
        "id": "jIavl08Z8Z1t",
        "colab_type": "code",
        "colab": {}
      },
      "source": [
        "# RNN\n",
        "from keras.models import Sequential\n",
        "from keras.layers import Dense, SimpleRNN\n",
        "\n",
        "# LSTM\n",
        "from keras.datasets import imdb\n",
        "from keras.preprocessing import sequence\n",
        "from keras.layers.embeddings import Embedding\n",
        "from keras.layers import Dense, LSTM\n",
        "\n",
        "\n",
        "import numpy as np\n",
        "# import matplotlib.pyplot as plt"
      ],
      "execution_count": 32,
      "outputs": []
    },
    {
      "cell_type": "markdown",
      "metadata": {
        "id": "-usS4kylXo4Y",
        "colab_type": "text"
      },
      "source": [
        "# Recurrent Neural Network"
      ]
    },
    {
      "cell_type": "code",
      "metadata": {
        "id": "AYDDrGOIJd45",
        "colab_type": "code",
        "colab": {}
      },
      "source": [
        "#  시계열 데이터 생성\n",
        "s = np.sin(2*np.pi/8*np.linspace(0,20,100))\n",
        "\n",
        "X, y = [], []\n",
        "\n",
        "for i in range(3, len(s)):\n",
        "  X.append(np.array([s[i-j] for j in range(3,0,-1)]))\n",
        "  y.append(s[i])\n",
        "\n",
        "X = np.array(X).reshape(len(X), 3, 1)\n",
        "y = np.array(y).reshape(len(y), 1)"
      ],
      "execution_count": 4,
      "outputs": []
    },
    {
      "cell_type": "code",
      "metadata": {
        "id": "jUySD-VpPyve",
        "colab_type": "code",
        "colab": {
          "base_uri": "https://localhost:8080/",
          "height": 228
        },
        "outputId": "53bfe943-a94f-45ec-fd2d-ac36f1a87131"
      },
      "source": [
        "model = Sequential()\n",
        "model.add(SimpleRNN(units=10, input_shape=(3,1)))\n",
        "model.add(Dense(units=1, activation='tanh'))\n",
        "\n",
        "model.summary()"
      ],
      "execution_count": 34,
      "outputs": [
        {
          "output_type": "stream",
          "text": [
            "Model: \"sequential_3\"\n",
            "_________________________________________________________________\n",
            "Layer (type)                 Output Shape              Param #   \n",
            "=================================================================\n",
            "simple_rnn_1 (SimpleRNN)     (None, 10)                120       \n",
            "_________________________________________________________________\n",
            "dense_2 (Dense)              (None, 1)                 11        \n",
            "=================================================================\n",
            "Total params: 131\n",
            "Trainable params: 131\n",
            "Non-trainable params: 0\n",
            "_________________________________________________________________\n"
          ],
          "name": "stdout"
        }
      ]
    },
    {
      "cell_type": "code",
      "metadata": {
        "id": "bDDpeA73RQiZ",
        "colab_type": "code",
        "colab": {}
      },
      "source": [
        "model.compile(loss='mean_squared_error', optimizer='sgd', metrics=['accuracy']) # accuracy 말고 다른거 사용해야 함"
      ],
      "execution_count": 20,
      "outputs": []
    },
    {
      "cell_type": "code",
      "metadata": {
        "id": "ImFfB2bJRb72",
        "colab_type": "code",
        "colab": {
          "base_uri": "https://localhost:8080/",
          "height": 369
        },
        "outputId": "863e9a91-2738-4a9b-facd-2ff05c84e8e9"
      },
      "source": [
        "hstr = model.fit(X, y, epochs=10, batch_size=10, verbose=2)"
      ],
      "execution_count": 22,
      "outputs": [
        {
          "output_type": "stream",
          "text": [
            "Epoch 1/10\n",
            "10/10 - 0s - loss: 0.0256 - accuracy: 0.0000e+00\n",
            "Epoch 2/10\n",
            "10/10 - 0s - loss: 0.0247 - accuracy: 0.0000e+00\n",
            "Epoch 3/10\n",
            "10/10 - 0s - loss: 0.0240 - accuracy: 0.0000e+00\n",
            "Epoch 4/10\n",
            "10/10 - 0s - loss: 0.0233 - accuracy: 0.0000e+00\n",
            "Epoch 5/10\n",
            "10/10 - 0s - loss: 0.0228 - accuracy: 0.0000e+00\n",
            "Epoch 6/10\n",
            "10/10 - 0s - loss: 0.0222 - accuracy: 0.0000e+00\n",
            "Epoch 7/10\n",
            "10/10 - 0s - loss: 0.0217 - accuracy: 0.0000e+00\n",
            "Epoch 8/10\n",
            "10/10 - 0s - loss: 0.0212 - accuracy: 0.0000e+00\n",
            "Epoch 9/10\n",
            "10/10 - 0s - loss: 0.0207 - accuracy: 0.0000e+00\n",
            "Epoch 10/10\n",
            "10/10 - 0s - loss: 0.0203 - accuracy: 0.0000e+00\n"
          ],
          "name": "stdout"
        }
      ]
    },
    {
      "cell_type": "code",
      "metadata": {
        "id": "dElrFiE6Seb3",
        "colab_type": "code",
        "colab": {
          "base_uri": "https://localhost:8080/",
          "height": 265
        },
        "outputId": "e89ca381-ed65-48d5-ed1c-fe0475ec7c75"
      },
      "source": [
        "plt.plot(hstr.history['loss'], color ='red')\n",
        "plt.show()"
      ],
      "execution_count": 24,
      "outputs": [
        {
          "output_type": "display_data",
          "data": {
            "image/png": "[encoded data removed]",
            "text/plain": [
              "<Figure size 432x288 with 1 Axes>"
            ]
          },
          "metadata": {
            "tags": [],
            "needs_background": "light"
          }
        }
      ]
    },
    {
      "cell_type": "code",
      "metadata": {
        "id": "p3rjl_V6WJQj",
        "colab_type": "code",
        "colab": {
          "base_uri": "https://localhost:8080/",
          "height": 1000
        },
        "outputId": "ba79533d-9a77-4a31-9ee0-bd26dd94d4b9"
      },
      "source": [
        "y_pred = model.predict(X)\n",
        "\n",
        "print(y_pred)"
      ],
      "execution_count": 28,
      "outputs": [
        {
          "output_type": "stream",
          "text": [
            "[[ 0.39685032]\n",
            " [ 0.53216195]\n",
            " [ 0.62910527]\n",
            " [ 0.6961712 ]\n",
            " [ 0.741879  ]\n",
            " [ 0.7723235 ]\n",
            " [ 0.79143685]\n",
            " [ 0.8015978 ]\n",
            " [ 0.8040162 ]\n",
            " [ 0.79890376]\n",
            " [ 0.7854771 ]\n",
            " [ 0.7618037 ]\n",
            " [ 0.7245136 ]\n",
            " [ 0.6684944 ]\n",
            " [ 0.5869478 ]\n",
            " [ 0.472621  ]\n",
            " [ 0.3211851 ]\n",
            " [ 0.13639347]\n",
            " [-0.06634796]\n",
            " [-0.262648  ]\n",
            " [-0.42931607]\n",
            " [-0.55579644]\n",
            " [-0.645437  ]\n",
            " [-0.70722264]\n",
            " [-0.74921054]\n",
            " [-0.776969  ]\n",
            " [-0.79404545]\n",
            " [-0.80254316]\n",
            " [-0.8034552 ]\n",
            " [-0.7967973 ]\n",
            " [-0.7815797 ]\n",
            " [-0.75562364]\n",
            " [-0.71525764]\n",
            " [-0.6550397 ]\n",
            " [-0.56795806]\n",
            " [-0.4469924 ]\n",
            " [-0.2889068 ]\n",
            " [-0.09943457]\n",
            " [ 0.10398852]\n",
            " [ 0.29629728]\n",
            " [ 0.45592096]\n",
            " [ 0.57513356]\n",
            " [ 0.6589927 ]\n",
            " [ 0.7166196 ]\n",
            " [ 0.7556271 ]\n",
            " [ 0.78116584]\n",
            " [ 0.79648423]\n",
            " [ 0.8034607 ]\n",
            " [ 0.80289555]\n",
            " [ 0.79461074]\n",
            " [ 0.7773902 ]\n",
            " [ 0.7487664 ]\n",
            " [ 0.7047016 ]\n",
            " [ 0.63935965]\n",
            " [ 0.54551005]\n",
            " [ 0.41652787]\n",
            " [ 0.2506783 ]\n",
            " [ 0.05620738]\n",
            " [-0.14711043]\n",
            " [-0.33382636]\n",
            " [-0.48478353]\n",
            " [-0.5955983 ]\n",
            " [-0.67298764]\n",
            " [-0.72602826]\n",
            " [-0.7617848 ]\n",
            " [-0.78493583]\n",
            " [-0.7983958 ]\n",
            " [-0.8037959 ]\n",
            " [-0.80173206]\n",
            " [-0.7918298 ]\n",
            " [-0.77265424]\n",
            " [-0.74146986]\n",
            " [-0.69391817]\n",
            " [-0.6238531 ]\n",
            " [-0.5239589 ]\n",
            " [-0.38814506]\n",
            " [-0.2161647 ]\n",
            " [-0.01841239]\n",
            " [ 0.18367691]\n",
            " [ 0.36486548]\n",
            " [ 0.50836974]\n",
            " [ 0.6124113 ]\n",
            " [ 0.68470705]\n",
            " [ 0.7341181 ]\n",
            " [ 0.7672413 ]\n",
            " [ 0.788388  ]\n",
            " [ 0.8002087 ]\n",
            " [ 0.8041279 ]\n",
            " [ 0.8005511 ]\n",
            " [ 0.78890187]\n",
            " [ 0.7674964 ]\n",
            " [ 0.73327965]\n",
            " [ 0.6815034 ]\n",
            " [ 0.6056607 ]\n",
            " [ 0.4983984 ]\n",
            " [ 0.35441896]\n",
            " [ 0.17545111]]\n"
          ],
          "name": "stdout"
        }
      ]
    },
    {
      "cell_type": "markdown",
      "metadata": {
        "id": "--5y_QCtaO9_",
        "colab_type": "text"
      },
      "source": [
        "# Long Short-Term Memory\n",
        "\n",
        "RNN의 문제점\n",
        "\n",
        "- 입력 시퀀스가 길어질 수록 타임 스텝의 수가 많으므로 네트워크가 깊어진다\n",
        "\n",
        "- 즉 깊어질수록 출력과 먼 앞부분의 학습이 잘 안되는 그래디언트 소실이 발생함\n",
        "\n",
        "- 이를 장기 의존성 long-term dependencies 문제라고 부름\n",
        "\n",
        "LSTM\n",
        "\n",
        "- long-term dependencies 해결을 위해 도입된 발전형 RNN\n",
        "\n",
        "- gate 개념이 추가됨"
      ]
    },
    {
      "cell_type": "code",
      "metadata": {
        "id": "jLZ_Lai4adRS",
        "colab_type": "code",
        "colab": {
          "base_uri": "https://localhost:8080/",
          "height": 72
        },
        "outputId": "9ca37432-bd0a-499a-f124-27171c7cd155"
      },
      "source": [
        "(X_train, y_train), (X_test, y_test) = imdb.load_data(num_words=10000)"
      ],
      "execution_count": 30,
      "outputs": [
        {
          "output_type": "stream",
          "text": [
            "Downloading data from https://storage.googleapis.com/tensorflow/tf-keras-datasets/imdb.npz\n",
            "17465344/17464789 [==============================] - 0s 0us/step\n"
          ],
          "name": "stdout"
        }
      ]
    },
    {
      "cell_type": "code",
      "metadata": {
        "id": "xYhDswwtadUL",
        "colab_type": "code",
        "colab": {}
      },
      "source": [
        "X_train = sequence.pad_sequences(X_train, maxlen=50)\n",
        "X_test = sequence.pad_sequences(X_test, maxlen=50)"
      ],
      "execution_count": 31,
      "outputs": []
    },
    {
      "cell_type": "code",
      "metadata": {
        "id": "bZUTu8q1adHG",
        "colab_type": "code",
        "colab": {
          "base_uri": "https://localhost:8080/",
          "height": 263
        },
        "outputId": "140501cc-072b-4eb4-979a-d64931f51c4f"
      },
      "source": [
        "model = Sequential()\n",
        "model.add(Embedding(input_dim=10000, output_dim=32, input_length=50))\n",
        "model.add(LSTM(units=100))\n",
        "model.add(Dense(units=1, activation='sigmoid'))\n",
        "\n",
        "model.summary()"
      ],
      "execution_count": 36,
      "outputs": [
        {
          "output_type": "stream",
          "text": [
            "Model: \"sequential_5\"\n",
            "_________________________________________________________________\n",
            "Layer (type)                 Output Shape              Param #   \n",
            "=================================================================\n",
            "embedding_2 (Embedding)      (None, 50, 32)            320000    \n",
            "_________________________________________________________________\n",
            "lstm_2 (LSTM)                (None, 100)               53200     \n",
            "_________________________________________________________________\n",
            "dense_4 (Dense)              (None, 1)                 101       \n",
            "=================================================================\n",
            "Total params: 373,301\n",
            "Trainable params: 373,301\n",
            "Non-trainable params: 0\n",
            "_________________________________________________________________\n"
          ],
          "name": "stdout"
        }
      ]
    },
    {
      "cell_type": "code",
      "metadata": {
        "id": "s5vTAI-uit35",
        "colab_type": "code",
        "colab": {}
      },
      "source": [
        "model.compile(loss='binary_crossentropy', optimizer='adam', metrics=['accuracy'])"
      ],
      "execution_count": 37,
      "outputs": []
    },
    {
      "cell_type": "code",
      "metadata": {
        "id": "p8oLcahzi5TE",
        "colab_type": "code",
        "colab": {
          "base_uri": "https://localhost:8080/",
          "height": 369
        },
        "outputId": "c005a916-39ac-4d5c-8070-ca3d4bc1295c"
      },
      "source": [
        "hstr = model.fit(X_train, y_train, epochs=10, batch_size=64, verbose=2)"
      ],
      "execution_count": 38,
      "outputs": [
        {
          "output_type": "stream",
          "text": [
            "Epoch 1/10\n",
            "391/391 - 18s - loss: 0.4759 - accuracy: 0.7625\n",
            "Epoch 2/10\n",
            "391/391 - 18s - loss: 0.3277 - accuracy: 0.8573\n",
            "Epoch 3/10\n",
            "391/391 - 18s - loss: 0.2780 - accuracy: 0.8856\n",
            "Epoch 4/10\n",
            "391/391 - 18s - loss: 0.2310 - accuracy: 0.9094\n",
            "Epoch 5/10\n",
            "391/391 - 18s - loss: 0.1820 - accuracy: 0.9301\n",
            "Epoch 6/10\n",
            "391/391 - 17s - loss: 0.1417 - accuracy: 0.9482\n",
            "Epoch 7/10\n",
            "391/391 - 20s - loss: 0.1067 - accuracy: 0.9630\n",
            "Epoch 8/10\n",
            "391/391 - 18s - loss: 0.0814 - accuracy: 0.9736\n",
            "Epoch 9/10\n",
            "391/391 - 18s - loss: 0.0622 - accuracy: 0.9794\n",
            "Epoch 10/10\n",
            "391/391 - 18s - loss: 0.0505 - accuracy: 0.9841\n"
          ],
          "name": "stdout"
        }
      ]
    },
    {
      "cell_type": "code",
      "metadata": {
        "id": "arhi3HRhi-eO",
        "colab_type": "code",
        "colab": {
          "base_uri": "https://localhost:8080/",
          "height": 34
        },
        "outputId": "b2374f77-e825-4dd2-8870-1f5bcec4672b"
      },
      "source": [
        "loss, acc = model.evaluate(X_test, y_test)\n",
        "\n",
        "print('손실값 :',loss)\n",
        "print('정확도 :',acc)"
      ],
      "execution_count": 39,
      "outputs": [
        {
          "output_type": "stream",
          "text": [
            "782/782 [==============================] - 8s 10ms/step - loss: 0.8795 - accuracy: 0.7747\n"
          ],
          "name": "stdout"
        }
      ]
    },
    {
      "cell_type": "code",
      "metadata": {
        "id": "SelKv-xZjDbw",
        "colab_type": "code",
        "colab": {
          "base_uri": "https://localhost:8080/",
          "height": 140
        },
        "outputId": "f1e833d7-1a9b-4f9f-ff85-18670b87f25c"
      },
      "source": [
        "model.predict(X_test)"
      ],
      "execution_count": 40,
      "outputs": [
        {
          "output_type": "execute_result",
          "data": {
            "text/plain": [
              "array([[0.92759615],\n",
              "       [0.99980116],\n",
              "       [0.4116592 ],\n",
              "       ...,\n",
              "       [0.02453375],\n",
              "       [0.00368351],\n",
              "       [0.99978083]], dtype=float32)"
            ]
          },
          "metadata": {
            "tags": []
          },
          "execution_count": 40
        }
      ]
    },
    {
      "cell_type": "code",
      "metadata": {
        "id": "CGA-W8fYjNm4",
        "colab_type": "code",
        "colab": {
          "base_uri": "https://localhost:8080/",
          "height": 34
        },
        "outputId": "ac939095-2449-4401-f971-8ae58240aa35"
      },
      "source": [
        "np.argmax(model.predict(X_test),axis=1)"
      ],
      "execution_count": 41,
      "outputs": [
        {
          "output_type": "execute_result",
          "data": {
            "text/plain": [
              "array([0, 0, 0, ..., 0, 0, 0])"
            ]
          },
          "metadata": {
            "tags": []
          },
          "execution_count": 41
        }
      ]
    }
  ]
}